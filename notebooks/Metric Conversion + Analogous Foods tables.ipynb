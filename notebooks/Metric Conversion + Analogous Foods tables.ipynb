{
 "cells": [
  {
   "cell_type": "code",
   "execution_count": 2,
   "id": "2cc56046",
   "metadata": {},
   "outputs": [],
   "source": [
    "import pandas as pd"
   ]
  },
  {
   "cell_type": "markdown",
   "id": "e6a5e9a6",
   "metadata": {},
   "source": [
    "# Conversion Table"
   ]
  },
  {
   "cell_type": "code",
   "execution_count": 8,
   "id": "6a3a9b14",
   "metadata": {},
   "outputs": [],
   "source": [
    "inds = ['g', 'ml', 'tsps', 'Tbsps', 'lb']\n",
    "data = {'to_Kg_multiplier':[1/1000, 1/1000, 5/1000, 15/1000, 1/2.2]}\n",
    "\n",
    "conv_df = pd.DataFrame(data, index=inds)"
   ]
  },
  {
   "cell_type": "code",
   "execution_count": 9,
   "id": "688e199c",
   "metadata": {},
   "outputs": [
    {
     "data": {
      "text/html": [
       "<div>\n",
       "<style scoped>\n",
       "    .dataframe tbody tr th:only-of-type {\n",
       "        vertical-align: middle;\n",
       "    }\n",
       "\n",
       "    .dataframe tbody tr th {\n",
       "        vertical-align: top;\n",
       "    }\n",
       "\n",
       "    .dataframe thead th {\n",
       "        text-align: right;\n",
       "    }\n",
       "</style>\n",
       "<table border=\"1\" class=\"dataframe\">\n",
       "  <thead>\n",
       "    <tr style=\"text-align: right;\">\n",
       "      <th></th>\n",
       "      <th>to_Kg_multiplier</th>\n",
       "    </tr>\n",
       "  </thead>\n",
       "  <tbody>\n",
       "    <tr>\n",
       "      <th>g</th>\n",
       "      <td>0.001000</td>\n",
       "    </tr>\n",
       "    <tr>\n",
       "      <th>ml</th>\n",
       "      <td>0.001000</td>\n",
       "    </tr>\n",
       "    <tr>\n",
       "      <th>tsps</th>\n",
       "      <td>0.005000</td>\n",
       "    </tr>\n",
       "    <tr>\n",
       "      <th>Tbsps</th>\n",
       "      <td>0.015000</td>\n",
       "    </tr>\n",
       "    <tr>\n",
       "      <th>lb</th>\n",
       "      <td>0.454545</td>\n",
       "    </tr>\n",
       "  </tbody>\n",
       "</table>\n",
       "</div>"
      ],
      "text/plain": [
       "       to_Kg_multiplier\n",
       "g              0.001000\n",
       "ml             0.001000\n",
       "tsps           0.005000\n",
       "Tbsps          0.015000\n",
       "lb             0.454545"
      ]
     },
     "execution_count": 9,
     "metadata": {},
     "output_type": "execute_result"
    }
   ],
   "source": [
    "conv_df"
   ]
  },
  {
   "cell_type": "markdown",
   "id": "20e348cf",
   "metadata": {},
   "source": [
    "# Analogous Foods Table"
   ]
  },
  {
   "cell_type": "code",
   "execution_count": 6,
   "id": "fe8cfb95",
   "metadata": {},
   "outputs": [],
   "source": [
    "emissions_table = pd.read_csv('/Users/jackjohson/code/Matbeac/fritz/footprint_data/ingredients_weights_emissions.csv')\n",
    "result_list = emissions_table.to_dict(orient='records')"
   ]
  },
  {
   "cell_type": "code",
   "execution_count": 7,
   "id": "8e8699ca",
   "metadata": {},
   "outputs": [
    {
     "data": {
      "text/html": [
       "<div>\n",
       "<style scoped>\n",
       "    .dataframe tbody tr th:only-of-type {\n",
       "        vertical-align: middle;\n",
       "    }\n",
       "\n",
       "    .dataframe tbody tr th {\n",
       "        vertical-align: top;\n",
       "    }\n",
       "\n",
       "    .dataframe thead th {\n",
       "        text-align: right;\n",
       "    }\n",
       "</style>\n",
       "<table border=\"1\" class=\"dataframe\">\n",
       "  <thead>\n",
       "    <tr style=\"text-align: right;\">\n",
       "      <th></th>\n",
       "      <th>Ingedient</th>\n",
       "      <th>Weight(g)</th>\n",
       "      <th>Emissions(gCO2)</th>\n",
       "    </tr>\n",
       "  </thead>\n",
       "  <tbody>\n",
       "    <tr>\n",
       "      <th>0</th>\n",
       "      <td>Allspice</td>\n",
       "      <td>1000</td>\n",
       "      <td>1133</td>\n",
       "    </tr>\n",
       "    <tr>\n",
       "      <th>1</th>\n",
       "      <td>Almond extract</td>\n",
       "      <td>1000</td>\n",
       "      <td>656</td>\n",
       "    </tr>\n",
       "    <tr>\n",
       "      <th>2</th>\n",
       "      <td>Almonds</td>\n",
       "      <td>1000</td>\n",
       "      <td>2856</td>\n",
       "    </tr>\n",
       "    <tr>\n",
       "      <th>3</th>\n",
       "      <td>Anchovies</td>\n",
       "      <td>1000</td>\n",
       "      <td>4220</td>\n",
       "    </tr>\n",
       "    <tr>\n",
       "      <th>4</th>\n",
       "      <td>Apple juice</td>\n",
       "      <td>1000</td>\n",
       "      <td>2440</td>\n",
       "    </tr>\n",
       "  </tbody>\n",
       "</table>\n",
       "</div>"
      ],
      "text/plain": [
       "        Ingedient  Weight(g)  Emissions(gCO2)\n",
       "0        Allspice       1000             1133\n",
       "1  Almond extract       1000              656\n",
       "2         Almonds       1000             2856\n",
       "3       Anchovies       1000             4220\n",
       "4     Apple juice       1000             2440"
      ]
     },
     "execution_count": 7,
     "metadata": {},
     "output_type": "execute_result"
    }
   ],
   "source": [
    "emissions_table.head()"
   ]
  },
  {
   "cell_type": "code",
   "execution_count": null,
   "id": "685d0c24",
   "metadata": {},
   "outputs": [],
   "source": [
    "Beef: 'mince','chunk'\n"
   ]
  },
  {
   "cell_type": "code",
   "execution_count": null,
   "id": "af8f09df",
   "metadata": {},
   "outputs": [],
   "source": []
  },
  {
   "cell_type": "markdown",
   "id": "e7137aef",
   "metadata": {},
   "source": [
    "# CO2 Emissions in Miles, Showers, etc."
   ]
  },
  {
   "cell_type": "code",
   "execution_count": 15,
   "id": "061cb2c0",
   "metadata": {},
   "outputs": [],
   "source": [
    "a = 166/44.92\n",
    "b = 100.25/27\n",
    "c = 254/68.8\n",
    "d = 237/64.2\n",
    "e = 149/40.1\n",
    "f = 133/35.9\n",
    "g = 37.5/10.1\n",
    "\n",
    "import numpy as np\n",
    "km_per_kg = np.mean([a,b,c,d,e,f,g])\n",
    "km_per_kg"
   ]
  },
  {
   "cell_type": "code",
   "execution_count": 23,
   "id": "3cb09862",
   "metadata": {},
   "outputs": [
    {
     "data": {
      "text/plain": [
       "1.8633540372670807"
      ]
     },
     "execution_count": 23,
     "metadata": {},
     "output_type": "execute_result"
    }
   ],
   "source": [
    "# 166 kg per year, assuming 300 showers a year at home:\n",
    "shower_per_kg = 300/161\n",
    "shower_per_kg"
   ]
  },
  {
   "cell_type": "code",
   "execution_count": 29,
   "id": "46de0036",
   "metadata": {},
   "outputs": [
    {
     "data": {
      "text/plain": [
       "18.181818181818183"
      ]
     },
     "execution_count": 29,
     "metadata": {},
     "output_type": "execute_result"
    }
   ],
   "source": [
    "# 55g per hour to stream videos:\n",
    "hrs_of_streaming_per_kg = 1/float(55/1000)\n",
    "hrs_of_streaming_per_kg"
   ]
  },
  {
   "cell_type": "code",
   "execution_count": 46,
   "id": "9c114741",
   "metadata": {},
   "outputs": [
    {
     "ename": "AttributeError",
     "evalue": "'dict' object has no attribute 'reset_index'",
     "output_type": "error",
     "traceback": [
      "\u001b[0;31m---------------------------------------------------------------------------\u001b[0m",
      "\u001b[0;31mAttributeError\u001b[0m                            Traceback (most recent call last)",
      "\u001b[0;32m/var/folders/nq/2g7fpv4n3djf9gcdy8kpnnx40000gn/T/ipykernel_2946/2005259222.py\u001b[0m in \u001b[0;36m<module>\u001b[0;34m\u001b[0m\n\u001b[1;32m      4\u001b[0m         'hrs_of_streaming_per_kg':hrs_of_streaming_per_kg}\n\u001b[1;32m      5\u001b[0m \u001b[0;34m\u001b[0m\u001b[0m\n\u001b[0;32m----> 6\u001b[0;31m \u001b[0mequivalence_table\u001b[0m \u001b[0;34m=\u001b[0m \u001b[0mpd\u001b[0m\u001b[0;34m.\u001b[0m\u001b[0mDataFrame\u001b[0m\u001b[0;34m(\u001b[0m\u001b[0mdata\u001b[0m\u001b[0;34m.\u001b[0m\u001b[0mreset_index\u001b[0m\u001b[0;34m(\u001b[0m\u001b[0;34m)\u001b[0m\u001b[0;34m)\u001b[0m\u001b[0;34m\u001b[0m\u001b[0;34m\u001b[0m\u001b[0m\n\u001b[0m\u001b[1;32m      7\u001b[0m \u001b[0mequivalence_table\u001b[0m\u001b[0;34m.\u001b[0m\u001b[0mhead\u001b[0m\u001b[0;34m(\u001b[0m\u001b[0;34m)\u001b[0m\u001b[0;34m\u001b[0m\u001b[0;34m\u001b[0m\u001b[0m\n",
      "\u001b[0;31mAttributeError\u001b[0m: 'dict' object has no attribute 'reset_index'"
     ]
    }
   ],
   "source": [
    "# cols = ['km_per_kg', 'shower_per_kg', 'hrs_of_streaming_per_kg']\n",
    "data = {'km_per_kg':km_per_kg, \\\n",
    "        'shower_per_kg':shower_per_kg, \\\n",
    "        'hrs_of_streaming_per_kg':hrs_of_streaming_per_kg}\n",
    "\n",
    "equivalence_table = pd.DataFrame(data.reset_index())\n",
    "equivalence_table.head()"
   ]
  },
  {
   "cell_type": "code",
   "execution_count": null,
   "id": "a600294d",
   "metadata": {},
   "outputs": [],
   "source": []
  }
 ],
 "metadata": {
  "kernelspec": {
   "display_name": "Python 3 (ipykernel)",
   "language": "python",
   "name": "python3"
  },
  "language_info": {
   "codemirror_mode": {
    "name": "ipython",
    "version": 3
   },
   "file_extension": ".py",
   "mimetype": "text/x-python",
   "name": "python",
   "nbconvert_exporter": "python",
   "pygments_lexer": "ipython3",
   "version": "3.8.12"
  },
  "toc": {
   "base_numbering": 1,
   "nav_menu": {},
   "number_sections": true,
   "sideBar": true,
   "skip_h1_title": false,
   "title_cell": "Table of Contents",
   "title_sidebar": "Contents",
   "toc_cell": false,
   "toc_position": {},
   "toc_section_display": true,
   "toc_window_display": false
  }
 },
 "nbformat": 4,
 "nbformat_minor": 5
}
