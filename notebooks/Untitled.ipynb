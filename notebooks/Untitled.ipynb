{
 "cells": [
  {
   "cell_type": "code",
   "execution_count": 96,
   "id": "68f28d9d",
   "metadata": {},
   "outputs": [
    {
     "name": "stderr",
     "output_type": "stream",
     "text": [
      "/var/folders/nq/2g7fpv4n3djf9gcdy8kpnnx40000gn/T/ipykernel_98610/1617707622.py:26: DeprecationWarning: find_element_by_* commands are deprecated. Please use find_element() instead\n",
      "  start_button = driver.find_element_by_id(\"start-btn\")\n",
      "/var/folders/nq/2g7fpv4n3djf9gcdy8kpnnx40000gn/T/ipykernel_98610/1617707622.py:33: DeprecationWarning: find_element_by_* commands are deprecated. Please use find_element() instead\n",
      "  ingredient_entry = driver.find_element_by_id(\"ingredient\")\n"
     ]
    },
    {
     "name": "stdout",
     "output_type": "stream",
     "text": [
      "[]\n"
     ]
    },
    {
     "name": "stderr",
     "output_type": "stream",
     "text": [
      "/Users/jackjohson/.pyenv/versions/3.8.12/envs/fritz/lib/python3.8/site-packages/selenium/webdriver/remote/webelement.py:207: UserWarning: find_elements_by_* commands are deprecated. Please use find_elements() instead\n",
      "  warnings.warn(\"find_elements_by_* commands are deprecated. Please use find_elements() instead\")\n"
     ]
    }
   ],
   "source": [
    "import time\n",
    "from selenium import webdriver\n",
    "import chromedriver_binary\n",
    "from selenium.webdriver.chrome.options import Options\n",
    "from selenium.webdriver.common.action_chains import ActionChains\n",
    "import csv\n",
    "import os\n",
    "import pandas as pd\n",
    "\n",
    "options = Options()\n",
    "options = webdriver.ChromeOptions()\n",
    "options.add_argument(\"--start-maximized\")\n",
    "# options.add_argument('--headless') # run without a window\n",
    "driver = webdriver.Chrome(options=options)\n",
    "driver.get(\"https://assets.plateupfortheplanet.org/carbon-calculator/\")\n",
    "actions = ActionChains(driver)\n",
    "\n",
    "# # Load result list from csv:\n",
    "# if os.path.exists('results_2.csv'):\n",
    "#     df = pd.read_csv('results_2.csv')\n",
    "#     result_list = df.to_dict(orient='records')\n",
    "    \n",
    "count=0\n",
    "    \n",
    "# Select the start button\n",
    "start_button = driver.find_element_by_id(\"start-btn\")\n",
    "actions = ActionChains(driver)\n",
    "actions.move_to_element(start_button).perform()\n",
    "#         and click\n",
    "start_button.click()\n",
    "time.sleep(1)\n",
    "\n",
    "ingredient_entry = driver.find_element_by_id(\"ingredient\")\n",
    "ingredient_entry.click()\n",
    "time.sleep(1)\n",
    "\n",
    "\n",
    "ingredients = ingredient_entry.find_elements_by_id(\"ui-id-1\")\n",
    "print(ingredients)\n",
    "\n",
    "# actions = ActionChains(driver)\n",
    "# actions.move_to_element(ingredients).perform()\n",
    "# #         and click\n",
    "# ingredients.click()\n",
    "\n",
    "# # items = ingredients.find_elements_by_class_name('ui-menu-item')\n",
    "# # print(items)\n",
    "# 'ui-id-1036' 'ui-id-1243'\n",
    "# # Selects a food item from the second dropdown\n",
    "# for i in range(1243, 1035, -1):\n",
    "#     item = ingredients.find_elements_by_id(f\"ui-id-{i}\").click() # List of objects relating to every food item"
   ]
  },
  {
   "cell_type": "code",
   "execution_count": 38,
   "id": "4e99f4d0",
   "metadata": {},
   "outputs": [
    {
     "name": "stderr",
     "output_type": "stream",
     "text": [
      "/var/folders/nq/2g7fpv4n3djf9gcdy8kpnnx40000gn/T/ipykernel_98610/3593008220.py:1: DeprecationWarning: find_elements_by_* commands are deprecated. Please use find_elements() instead\n",
      "  driver.find_elements_by_id(\"ui-id-1281\")\n"
     ]
    },
    {
     "data": {
      "text/plain": [
       "[]"
      ]
     },
     "execution_count": 38,
     "metadata": {},
     "output_type": "execute_result"
    }
   ],
   "source": [
    "driver.find_elements_by_id(\"ui-id-1281\")"
   ]
  },
  {
   "cell_type": "code",
   "execution_count": null,
   "id": "5ee98d46",
   "metadata": {},
   "outputs": [],
   "source": []
  },
  {
   "cell_type": "code",
   "execution_count": null,
   "id": "d0a1b2f4",
   "metadata": {},
   "outputs": [],
   "source": []
  },
  {
   "cell_type": "code",
   "execution_count": 86,
   "id": "6a3a9b14",
   "metadata": {},
   "outputs": [],
   "source": [
    "inds = ['g', 'ml', 'tsps', 'Tbsps', 'lb']\n",
    "data = {'to_Kg_multiplier':[1/1000, 1/1000, 5/1000, 15/1000, 1/2.2]}\n",
    "\n",
    "conv_df = pd.DataFrame(data, index=inds)"
   ]
  },
  {
   "cell_type": "code",
   "execution_count": null,
   "id": "688e199c",
   "metadata": {},
   "outputs": [],
   "source": []
  },
  {
   "cell_type": "code",
   "execution_count": null,
   "id": "6e902aa0",
   "metadata": {},
   "outputs": [],
   "source": []
  }
 ],
 "metadata": {
  "kernelspec": {
   "display_name": "Python 3 (ipykernel)",
   "language": "python",
   "name": "python3"
  },
  "language_info": {
   "codemirror_mode": {
    "name": "ipython",
    "version": 3
   },
   "file_extension": ".py",
   "mimetype": "text/x-python",
   "name": "python",
   "nbconvert_exporter": "python",
   "pygments_lexer": "ipython3",
   "version": "3.8.12"
  },
  "toc": {
   "base_numbering": 1,
   "nav_menu": {},
   "number_sections": true,
   "sideBar": true,
   "skip_h1_title": false,
   "title_cell": "Table of Contents",
   "title_sidebar": "Contents",
   "toc_cell": false,
   "toc_position": {},
   "toc_section_display": true,
   "toc_window_display": false
  }
 },
 "nbformat": 4,
 "nbformat_minor": 5
}
