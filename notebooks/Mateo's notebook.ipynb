{
 "cells": [
  {
   "cell_type": "code",
   "execution_count": 1,
   "id": "095f768c",
   "metadata": {},
   "outputs": [],
   "source": [
    "import requests\n",
    "import json\n",
    "import numpy as np\n",
    "import matplotlib.pyplot as plt\n",
    "import os\n",
    "import pickle"
   ]
  },
  {
   "cell_type": "code",
   "execution_count": 2,
   "id": "06089b1a",
   "metadata": {},
   "outputs": [],
   "source": [
    "model_path= os.path.join('../models/100_84_DN121_TL3_GAP.h5')\n",
    "classes_path= os.path.join('../models/100_84_DN121_TL3_GAP.csv')"
   ]
  },
  {
   "cell_type": "code",
   "execution_count": 4,
   "id": "01fbd8bd",
   "metadata": {},
   "outputs": [],
   "source": [
    "import pandas as pd"
   ]
  },
  {
   "cell_type": "code",
   "execution_count": 6,
   "id": "7bb5e669",
   "metadata": {},
   "outputs": [],
   "source": [
    "liste=['apple_pie', 'baby_back_ribs', 'baklava', 'beef_carpaccio', 'beef_tartare', 'beet_salad', 'beignets', 'bibimbap', 'bread_pudding', 'breakfast_burrito', 'bruschetta', 'caesar_salad', 'cannoli', 'caprese_salad', 'carrot_cake', 'ceviche', 'cheese_plate', 'cheesecake', 'chicken_curry', 'chicken_quesadilla', 'chicken_wings', 'chocolate_cake', 'chocolate_mousse', 'churros', 'clam_chowder', 'club_sandwich', 'crab_cakes', 'creme_brulee', 'croque_madame', 'cup_cakes', 'deviled_eggs', 'donuts', 'dumplings', 'edamame', 'eggs_benedict', 'escargots', 'falafel', 'filet_mignon', 'fish_and_chips', 'foie_gras', 'french_fries', 'french_onion_soup', 'french_toast', 'fried_calamari', 'fried_rice', 'frozen_yogurt', 'garlic_bread', 'gnocchi', 'greek_salad', 'grilled_cheese_sandwich', 'grilled_salmon', 'guacamole', 'gyoza', 'hamburger', 'hot_and_sour_soup', 'hot_dog', 'huevos_rancheros', 'hummus', 'ice_cream', 'lasagna', 'lobster_bisque', 'lobster_roll_sandwich', 'macaroni_and_cheese', 'macarons', 'miso_soup', 'mussels', 'nachos', 'omelette', 'onion_rings', 'oysters', 'pad_thai', 'paella', 'pancakes', 'panna_cotta', 'peking_duck', 'pho', 'pizza', 'pork_chop', 'poutine', 'prime_rib', 'pulled_pork_sandwich', 'ramen', 'ravioli', 'red_velvet_cake', 'risotto', 'samosa', 'sashimi', 'scallops', 'seaweed_salad', 'shrimp_and_grits', 'spaghetti_bolognese', 'spaghetti_carbonara', 'spring_rolls', 'steak', 'strawberry_shortcake', 'sushi', 'tacos', 'takoyaki', 'tiramisu', 'tuna_tartare', 'waffles']"
   ]
  },
  {
   "cell_type": "code",
   "execution_count": 8,
   "id": "af031158",
   "metadata": {},
   "outputs": [],
   "source": [
    "to_csv=pd.DataFrame(liste)"
   ]
  },
  {
   "cell_type": "code",
   "execution_count": 12,
   "id": "c8f3aa35",
   "metadata": {},
   "outputs": [],
   "source": [
    "to_csv.to_csv(\"Cat.csv\",index=False)"
   ]
  },
  {
   "cell_type": "code",
   "execution_count": 5,
   "id": "c5a48a7d",
   "metadata": {},
   "outputs": [
    {
     "data": {
      "text/html": [
       "<div>\n",
       "<style scoped>\n",
       "    .dataframe tbody tr th:only-of-type {\n",
       "        vertical-align: middle;\n",
       "    }\n",
       "\n",
       "    .dataframe tbody tr th {\n",
       "        vertical-align: top;\n",
       "    }\n",
       "\n",
       "    .dataframe thead th {\n",
       "        text-align: right;\n",
       "    }\n",
       "</style>\n",
       "<table border=\"1\" class=\"dataframe\">\n",
       "  <thead>\n",
       "    <tr style=\"text-align: right;\">\n",
       "      <th></th>\n",
       "      <th>Categories</th>\n",
       "    </tr>\n",
       "  </thead>\n",
       "  <tbody>\n",
       "    <tr>\n",
       "      <th>0</th>\n",
       "      <td>bruschetta</td>\n",
       "    </tr>\n",
       "    <tr>\n",
       "      <th>1</th>\n",
       "      <td>ceviche</td>\n",
       "    </tr>\n",
       "    <tr>\n",
       "      <th>2</th>\n",
       "      <td>chicken_wings</td>\n",
       "    </tr>\n",
       "    <tr>\n",
       "      <th>3</th>\n",
       "      <td>dumplings</td>\n",
       "    </tr>\n",
       "    <tr>\n",
       "      <th>4</th>\n",
       "      <td>french_toast</td>\n",
       "    </tr>\n",
       "    <tr>\n",
       "      <th>5</th>\n",
       "      <td>miso_soup</td>\n",
       "    </tr>\n",
       "    <tr>\n",
       "      <th>6</th>\n",
       "      <td>onion_rings</td>\n",
       "    </tr>\n",
       "    <tr>\n",
       "      <th>7</th>\n",
       "      <td>prime_rib</td>\n",
       "    </tr>\n",
       "    <tr>\n",
       "      <th>8</th>\n",
       "      <td>samosa</td>\n",
       "    </tr>\n",
       "    <tr>\n",
       "      <th>9</th>\n",
       "      <td>waffles</td>\n",
       "    </tr>\n",
       "  </tbody>\n",
       "</table>\n",
       "</div>"
      ],
      "text/plain": [
       "      Categories\n",
       "0     bruschetta\n",
       "1        ceviche\n",
       "2  chicken_wings\n",
       "3      dumplings\n",
       "4   french_toast\n",
       "5      miso_soup\n",
       "6    onion_rings\n",
       "7      prime_rib\n",
       "8         samosa\n",
       "9        waffles"
      ]
     },
     "execution_count": 5,
     "metadata": {},
     "output_type": "execute_result"
    }
   ],
   "source": [
    "pd.read_csv(classes_path)"
   ]
  },
  {
   "cell_type": "code",
   "execution_count": 41,
   "id": "4c106629",
   "metadata": {},
   "outputs": [],
   "source": [
    "filepath = os.path.join('..','..','1005649.jpg')"
   ]
  },
  {
   "cell_type": "code",
   "execution_count": 6,
   "id": "a252f7be",
   "metadata": {},
   "outputs": [],
   "source": [
    "img = plt.imread(filepath)"
   ]
  },
  {
   "cell_type": "code",
   "execution_count": 7,
   "id": "c2b2aa2f",
   "metadata": {},
   "outputs": [
    {
     "data": {
      "text/plain": [
       "(512, 308, 3)"
      ]
     },
     "execution_count": 7,
     "metadata": {},
     "output_type": "execute_result"
    }
   ],
   "source": [
    "img.shape"
   ]
  },
  {
   "cell_type": "code",
   "execution_count": 8,
   "id": "9f76aada",
   "metadata": {},
   "outputs": [],
   "source": [
    "img_reshaped=img.reshape(img.shape[0]*img.shape[1]*img.shape[2])"
   ]
  },
  {
   "cell_type": "code",
   "execution_count": 9,
   "id": "e91286de",
   "metadata": {},
   "outputs": [
    {
     "data": {
      "text/plain": [
       "(473088,)"
      ]
     },
     "execution_count": 9,
     "metadata": {},
     "output_type": "execute_result"
    }
   ],
   "source": [
    "img_reshaped.shape"
   ]
  },
  {
   "cell_type": "code",
   "execution_count": 10,
   "id": "39987573",
   "metadata": {},
   "outputs": [
    {
     "data": {
      "text/plain": [
       "array([[[59, 59, 49],\n",
       "        [62, 59, 50],\n",
       "        [62, 59, 50],\n",
       "        ...,\n",
       "        [48, 47, 42],\n",
       "        [49, 48, 43],\n",
       "        [48, 47, 42]],\n",
       "\n",
       "       [[54, 55, 47],\n",
       "        [55, 56, 48],\n",
       "        [57, 58, 50],\n",
       "        ...,\n",
       "        [33, 32, 27],\n",
       "        [38, 37, 32],\n",
       "        [47, 46, 41]],\n",
       "\n",
       "       [[40, 45, 38],\n",
       "        [42, 47, 40],\n",
       "        [45, 50, 44],\n",
       "        ...,\n",
       "        [23, 26, 19],\n",
       "        [27, 30, 23],\n",
       "        [39, 42, 35]],\n",
       "\n",
       "       ...,\n",
       "\n",
       "       [[54, 61, 30],\n",
       "        [59, 63, 38],\n",
       "        [64, 63, 45],\n",
       "        ...,\n",
       "        [44, 39, 35],\n",
       "        [44, 39, 35],\n",
       "        [44, 39, 35]],\n",
       "\n",
       "       [[62, 69, 35],\n",
       "        [65, 70, 40],\n",
       "        [67, 66, 46],\n",
       "        ...,\n",
       "        [43, 38, 34],\n",
       "        [42, 37, 33],\n",
       "        [41, 36, 32]],\n",
       "\n",
       "       [[65, 73, 36],\n",
       "        [69, 72, 41],\n",
       "        [72, 70, 49],\n",
       "        ...,\n",
       "        [41, 36, 32],\n",
       "        [40, 35, 31],\n",
       "        [39, 34, 30]]], dtype=uint8)"
      ]
     },
     "execution_count": 10,
     "metadata": {},
     "output_type": "execute_result"
    }
   ],
   "source": [
    "img_reshaped.reshape((512, 308, 3))"
   ]
  },
  {
   "cell_type": "code",
   "execution_count": 11,
   "id": "fccf3263",
   "metadata": {},
   "outputs": [],
   "source": [
    "img_list = img_reshaped.tolist()"
   ]
  },
  {
   "cell_type": "code",
   "execution_count": 12,
   "id": "0b800133",
   "metadata": {},
   "outputs": [],
   "source": [
    "json_str = json.dumps(img_list)"
   ]
  },
  {
   "cell_type": "code",
   "execution_count": 13,
   "id": "86775488",
   "metadata": {},
   "outputs": [],
   "source": [
    "url = \"http://127.0.0.1:8000/items/\"\n",
    "data=json.dumps({\"image_reshape\":json_str,\n",
    "                     \"height\": img.shape[0],\n",
    "                     \"width\": img.shape[1],\n",
    "                     \"color\": img.shape[2]})\n",
    "headers = {'Content-type': 'application/json'}"
   ]
  },
  {
   "cell_type": "code",
   "execution_count": 15,
   "id": "758a0e50",
   "metadata": {},
   "outputs": [
    {
     "data": {
      "text/plain": [
       "'item'"
      ]
     },
     "execution_count": 15,
     "metadata": {},
     "output_type": "execute_result"
    }
   ],
   "source": [
    "requests.post(url,data,headers=headers).json()"
   ]
  },
  {
   "cell_type": "markdown",
   "id": "45b98ee5",
   "metadata": {},
   "source": []
  },
  {
   "cell_type": "code",
   "execution_count": 20,
   "id": "6f06e806",
   "metadata": {},
   "outputs": [],
   "source": [
    "filepath = os.path.join('..','Image.obj')"
   ]
  },
  {
   "cell_type": "code",
   "execution_count": 21,
   "id": "1370c889",
   "metadata": {},
   "outputs": [],
   "source": [
    "file = open(filepath,'rb')\n",
    "object_file = pickle.load(file)"
   ]
  },
  {
   "cell_type": "code",
   "execution_count": 22,
   "id": "7ba744d6",
   "metadata": {},
   "outputs": [
    {
     "name": "stdout",
     "output_type": "stream",
     "text": [
      "[[[59 59 49]\n",
      "  [62 59 50]\n",
      "  [62 59 50]\n",
      "  ...\n",
      "  [48 47 42]\n",
      "  [49 48 43]\n",
      "  [48 47 42]]\n",
      "\n",
      " [[54 55 47]\n",
      "  [55 56 48]\n",
      "  [57 58 50]\n",
      "  ...\n",
      "  [33 32 27]\n",
      "  [38 37 32]\n",
      "  [47 46 41]]\n",
      "\n",
      " [[40 45 38]\n",
      "  [42 47 40]\n",
      "  [45 50 44]\n",
      "  ...\n",
      "  [23 26 19]\n",
      "  [27 30 23]\n",
      "  [39 42 35]]\n",
      "\n",
      " ...\n",
      "\n",
      " [[54 61 30]\n",
      "  [59 63 38]\n",
      "  [64 63 45]\n",
      "  ...\n",
      "  [44 39 35]\n",
      "  [44 39 35]\n",
      "  [44 39 35]]\n",
      "\n",
      " [[62 69 35]\n",
      "  [65 70 40]\n",
      "  [67 66 46]\n",
      "  ...\n",
      "  [43 38 34]\n",
      "  [42 37 33]\n",
      "  [41 36 32]]\n",
      "\n",
      " [[65 73 36]\n",
      "  [69 72 41]\n",
      "  [72 70 49]\n",
      "  ...\n",
      "  [41 36 32]\n",
      "  [40 35 31]\n",
      "  [39 34 30]]]\n"
     ]
    }
   ],
   "source": [
    "print(object_file)"
   ]
  },
  {
   "cell_type": "code",
   "execution_count": 23,
   "id": "6883e1ae",
   "metadata": {
    "scrolled": true
   },
   "outputs": [
    {
     "data": {
      "image/png": "[encoded data removed]",
      "text/plain": [
       "<Figure size 432x288 with 1 Axes>"
      ]
     },
     "metadata": {
      "needs_background": "light"
     },
     "output_type": "display_data"
    }
   ],
   "source": [
    "plt.imshow(object_file);"
   ]
  },
  {
   "cell_type": "code",
   "execution_count": 28,
   "id": "39453559",
   "metadata": {},
   "outputs": [],
   "source": [
    "import tensorflow as tf\n",
    "import os\n",
    "from tensorflow import keras"
   ]
  },
  {
   "cell_type": "code",
   "execution_count": 44,
   "id": "30d31796",
   "metadata": {},
   "outputs": [],
   "source": [
    "model_path= os.path.join('..','models/10_VGG16.csv')"
   ]
  },
  {
   "cell_type": "code",
   "execution_count": 26,
   "id": "d4c1b4bd",
   "metadata": {},
   "outputs": [
    {
     "name": "stderr",
     "output_type": "stream",
     "text": [
      "2021-11-24 15:40:53.712242: W tensorflow/stream_executor/platform/default/dso_loader.cc:64] Could not load dynamic library 'libcuda.so.1'; dlerror: libcuda.so.1: cannot open shared object file: No such file or directory\n",
      "2021-11-24 15:40:53.712293: W tensorflow/stream_executor/cuda/cuda_driver.cc:326] failed call to cuInit: UNKNOWN ERROR (303)\n",
      "2021-11-24 15:40:53.712313: I tensorflow/stream_executor/cuda/cuda_diagnostics.cc:156] kernel driver does not appear to be running on this host (DESKTOP-EUET6SA): /proc/driver/nvidia/version does not exist\n",
      "2021-11-24 15:40:53.712530: I tensorflow/core/platform/cpu_feature_guard.cc:142] This TensorFlow binary is optimized with oneAPI Deep Neural Network Library (oneDNN) to use the following CPU instructions in performance-critical operations:  AVX2 FMA\n",
      "To enable them in other operations, rebuild TensorFlow with the appropriate compiler flags.\n"
     ]
    }
   ],
   "source": [
    "model = keras.models.load_model(model_path)"
   ]
  },
  {
   "cell_type": "code",
   "execution_count": 37,
   "id": "a6f3fc8c",
   "metadata": {},
   "outputs": [],
   "source": [
    "image_resized=tf.image.resize(object_file,[224, 224])"
   ]
  },
  {
   "cell_type": "code",
   "execution_count": 38,
   "id": "32ba90a9",
   "metadata": {},
   "outputs": [
    {
     "data": {
      "text/plain": [
       "<matplotlib.image.AxesImage at 0x7f4f45f662e0>"
      ]
     },
     "execution_count": 38,
     "metadata": {},
     "output_type": "execute_result"
    },
    {
     "data": {
      "image/png": "[encoded data removed]",
      "text/plain": [
       "<Figure size 432x288 with 1 Axes>"
      ]
     },
     "metadata": {
      "needs_background": "light"
     },
     "output_type": "display_data"
    }
   ],
   "source": [
    "plt.imshow(image_resized/255)"
   ]
  },
  {
   "cell_type": "code",
   "execution_count": 79,
   "id": "44af3a34",
   "metadata": {
    "scrolled": true
   },
   "outputs": [],
   "source": [
    "result=model.predict(np.array([image_resized/255]))"
   ]
  },
  {
   "cell_type": "code",
   "execution_count": 88,
   "id": "5f45296e",
   "metadata": {},
   "outputs": [
    {
     "data": {
      "text/plain": [
       "array([[2.2986994e-04, 6.8621378e-04, 3.0747528e-06, 1.1331429e-05,\n",
       "        9.6013957e-01, 3.8949209e-03, 5.1044949e-06, 7.9589328e-03,\n",
       "        5.4532029e-03, 2.1617802e-02]], dtype=float32)"
      ]
     },
     "execution_count": 88,
     "metadata": {},
     "output_type": "execute_result"
    }
   ],
   "source": [
    "result"
   ]
  },
  {
   "cell_type": "code",
   "execution_count": 81,
   "id": "0244ca60",
   "metadata": {},
   "outputs": [],
   "source": [
    "import pandas as pd"
   ]
  },
  {
   "cell_type": "code",
   "execution_count": 83,
   "id": "be8ec1b5",
   "metadata": {},
   "outputs": [],
   "source": [
    "classes_path= os.path.join('..','models/10_VGG16.csv')"
   ]
  },
  {
   "cell_type": "code",
   "execution_count": 85,
   "id": "51ce6b5f",
   "metadata": {},
   "outputs": [],
   "source": [
    "categories=pd.read_csv(classes_path)"
   ]
  },
  {
   "cell_type": "code",
   "execution_count": 86,
   "id": "d946d501",
   "metadata": {},
   "outputs": [
    {
     "data": {
      "text/html": [
       "<div>\n",
       "<style scoped>\n",
       "    .dataframe tbody tr th:only-of-type {\n",
       "        vertical-align: middle;\n",
       "    }\n",
       "\n",
       "    .dataframe tbody tr th {\n",
       "        vertical-align: top;\n",
       "    }\n",
       "\n",
       "    .dataframe thead th {\n",
       "        text-align: right;\n",
       "    }\n",
       "</style>\n",
       "<table border=\"1\" class=\"dataframe\">\n",
       "  <thead>\n",
       "    <tr style=\"text-align: right;\">\n",
       "      <th></th>\n",
       "      <th>Categories</th>\n",
       "    </tr>\n",
       "  </thead>\n",
       "  <tbody>\n",
       "    <tr>\n",
       "      <th>0</th>\n",
       "      <td>bruschetta</td>\n",
       "    </tr>\n",
       "    <tr>\n",
       "      <th>1</th>\n",
       "      <td>ceviche</td>\n",
       "    </tr>\n",
       "    <tr>\n",
       "      <th>2</th>\n",
       "      <td>chicken_wings</td>\n",
       "    </tr>\n",
       "    <tr>\n",
       "      <th>3</th>\n",
       "      <td>dumplings</td>\n",
       "    </tr>\n",
       "    <tr>\n",
       "      <th>4</th>\n",
       "      <td>french_toast</td>\n",
       "    </tr>\n",
       "    <tr>\n",
       "      <th>5</th>\n",
       "      <td>miso_soup</td>\n",
       "    </tr>\n",
       "    <tr>\n",
       "      <th>6</th>\n",
       "      <td>onion_rings</td>\n",
       "    </tr>\n",
       "    <tr>\n",
       "      <th>7</th>\n",
       "      <td>prime_rib</td>\n",
       "    </tr>\n",
       "    <tr>\n",
       "      <th>8</th>\n",
       "      <td>samosa</td>\n",
       "    </tr>\n",
       "    <tr>\n",
       "      <th>9</th>\n",
       "      <td>waffles</td>\n",
       "    </tr>\n",
       "  </tbody>\n",
       "</table>\n",
       "</div>"
      ],
      "text/plain": [
       "      Categories\n",
       "0     bruschetta\n",
       "1        ceviche\n",
       "2  chicken_wings\n",
       "3      dumplings\n",
       "4   french_toast\n",
       "5      miso_soup\n",
       "6    onion_rings\n",
       "7      prime_rib\n",
       "8         samosa\n",
       "9        waffles"
      ]
     },
     "execution_count": 86,
     "metadata": {},
     "output_type": "execute_result"
    }
   ],
   "source": [
    "categories"
   ]
  },
  {
   "cell_type": "code",
   "execution_count": 87,
   "id": "b6ff671b",
   "metadata": {},
   "outputs": [
    {
     "data": {
      "text/plain": [
       "'french_toast'"
      ]
     },
     "execution_count": 87,
     "metadata": {},
     "output_type": "execute_result"
    }
   ],
   "source": [
    "categories.iloc[np.argmax(result),0]"
   ]
  },
  {
   "cell_type": "code",
   "execution_count": 73,
   "id": "db91cbec",
   "metadata": {},
   "outputs": [],
   "source": [
    "url = \"http://127.0.0.1:8000/predict/\"\n",
    "data=json.dumps({\"image_reshape\":json_str,\n",
    "                     \"height\": img.shape[0],\n",
    "                     \"width\": img.shape[1],\n",
    "                     \"color\": img.shape[2]})\n",
    "headers = {'Content-type': 'application/json'}"
   ]
  },
  {
   "cell_type": "code",
   "execution_count": 75,
   "id": "afc35b85",
   "metadata": {},
   "outputs": [
    {
     "ename": "JSONDecodeError",
     "evalue": "Expecting value: line 1 column 1 (char 0)",
     "output_type": "error",
     "traceback": [
      "\u001b[0;31m---------------------------------------------------------------------------\u001b[0m",
      "\u001b[0;31mJSONDecodeError\u001b[0m                           Traceback (most recent call last)",
      "\u001b[0;32m/tmp/ipykernel_7117/4273892125.py\u001b[0m in \u001b[0;36m<module>\u001b[0;34m\u001b[0m\n\u001b[0;32m----> 1\u001b[0;31m \u001b[0mrequests\u001b[0m\u001b[0;34m.\u001b[0m\u001b[0mpost\u001b[0m\u001b[0;34m(\u001b[0m\u001b[0murl\u001b[0m\u001b[0;34m,\u001b[0m\u001b[0mdata\u001b[0m\u001b[0;34m,\u001b[0m\u001b[0mheaders\u001b[0m\u001b[0;34m=\u001b[0m\u001b[0mheaders\u001b[0m\u001b[0;34m)\u001b[0m\u001b[0;34m.\u001b[0m\u001b[0mjson\u001b[0m\u001b[0;34m(\u001b[0m\u001b[0;34m)\u001b[0m\u001b[0;34m\u001b[0m\u001b[0;34m\u001b[0m\u001b[0m\n\u001b[0m",
      "\u001b[0;32m~/.pyenv/versions/3.8.12/envs/fritz/lib/python3.8/site-packages/requests/models.py\u001b[0m in \u001b[0;36mjson\u001b[0;34m(self, **kwargs)\u001b[0m\n\u001b[1;32m    908\u001b[0m                     \u001b[0;31m# used.\u001b[0m\u001b[0;34m\u001b[0m\u001b[0;34m\u001b[0m\u001b[0;34m\u001b[0m\u001b[0m\n\u001b[1;32m    909\u001b[0m                     \u001b[0;32mpass\u001b[0m\u001b[0;34m\u001b[0m\u001b[0;34m\u001b[0m\u001b[0m\n\u001b[0;32m--> 910\u001b[0;31m         \u001b[0;32mreturn\u001b[0m \u001b[0mcomplexjson\u001b[0m\u001b[0;34m.\u001b[0m\u001b[0mloads\u001b[0m\u001b[0;34m(\u001b[0m\u001b[0mself\u001b[0m\u001b[0;34m.\u001b[0m\u001b[0mtext\u001b[0m\u001b[0;34m,\u001b[0m \u001b[0;34m**\u001b[0m\u001b[0mkwargs\u001b[0m\u001b[0;34m)\u001b[0m\u001b[0;34m\u001b[0m\u001b[0;34m\u001b[0m\u001b[0m\n\u001b[0m\u001b[1;32m    911\u001b[0m \u001b[0;34m\u001b[0m\u001b[0m\n\u001b[1;32m    912\u001b[0m     \u001b[0;34m@\u001b[0m\u001b[0mproperty\u001b[0m\u001b[0;34m\u001b[0m\u001b[0;34m\u001b[0m\u001b[0m\n",
      "\u001b[0;32m~/.pyenv/versions/3.8.12/lib/python3.8/json/__init__.py\u001b[0m in \u001b[0;36mloads\u001b[0;34m(s, cls, object_hook, parse_float, parse_int, parse_constant, object_pairs_hook, **kw)\u001b[0m\n\u001b[1;32m    355\u001b[0m             \u001b[0mparse_int\u001b[0m \u001b[0;32mis\u001b[0m \u001b[0;32mNone\u001b[0m \u001b[0;32mand\u001b[0m \u001b[0mparse_float\u001b[0m \u001b[0;32mis\u001b[0m \u001b[0;32mNone\u001b[0m \u001b[0;32mand\u001b[0m\u001b[0;34m\u001b[0m\u001b[0;34m\u001b[0m\u001b[0m\n\u001b[1;32m    356\u001b[0m             parse_constant is None and object_pairs_hook is None and not kw):\n\u001b[0;32m--> 357\u001b[0;31m         \u001b[0;32mreturn\u001b[0m \u001b[0m_default_decoder\u001b[0m\u001b[0;34m.\u001b[0m\u001b[0mdecode\u001b[0m\u001b[0;34m(\u001b[0m\u001b[0ms\u001b[0m\u001b[0;34m)\u001b[0m\u001b[0;34m\u001b[0m\u001b[0;34m\u001b[0m\u001b[0m\n\u001b[0m\u001b[1;32m    358\u001b[0m     \u001b[0;32mif\u001b[0m \u001b[0mcls\u001b[0m \u001b[0;32mis\u001b[0m \u001b[0;32mNone\u001b[0m\u001b[0;34m:\u001b[0m\u001b[0;34m\u001b[0m\u001b[0;34m\u001b[0m\u001b[0m\n\u001b[1;32m    359\u001b[0m         \u001b[0mcls\u001b[0m \u001b[0;34m=\u001b[0m \u001b[0mJSONDecoder\u001b[0m\u001b[0;34m\u001b[0m\u001b[0;34m\u001b[0m\u001b[0m\n",
      "\u001b[0;32m~/.pyenv/versions/3.8.12/lib/python3.8/json/decoder.py\u001b[0m in \u001b[0;36mdecode\u001b[0;34m(self, s, _w)\u001b[0m\n\u001b[1;32m    335\u001b[0m \u001b[0;34m\u001b[0m\u001b[0m\n\u001b[1;32m    336\u001b[0m         \"\"\"\n\u001b[0;32m--> 337\u001b[0;31m         \u001b[0mobj\u001b[0m\u001b[0;34m,\u001b[0m \u001b[0mend\u001b[0m \u001b[0;34m=\u001b[0m \u001b[0mself\u001b[0m\u001b[0;34m.\u001b[0m\u001b[0mraw_decode\u001b[0m\u001b[0;34m(\u001b[0m\u001b[0ms\u001b[0m\u001b[0;34m,\u001b[0m \u001b[0midx\u001b[0m\u001b[0;34m=\u001b[0m\u001b[0m_w\u001b[0m\u001b[0;34m(\u001b[0m\u001b[0ms\u001b[0m\u001b[0;34m,\u001b[0m \u001b[0;36m0\u001b[0m\u001b[0;34m)\u001b[0m\u001b[0;34m.\u001b[0m\u001b[0mend\u001b[0m\u001b[0;34m(\u001b[0m\u001b[0;34m)\u001b[0m\u001b[0;34m)\u001b[0m\u001b[0;34m\u001b[0m\u001b[0;34m\u001b[0m\u001b[0m\n\u001b[0m\u001b[1;32m    338\u001b[0m         \u001b[0mend\u001b[0m \u001b[0;34m=\u001b[0m \u001b[0m_w\u001b[0m\u001b[0;34m(\u001b[0m\u001b[0ms\u001b[0m\u001b[0;34m,\u001b[0m \u001b[0mend\u001b[0m\u001b[0;34m)\u001b[0m\u001b[0;34m.\u001b[0m\u001b[0mend\u001b[0m\u001b[0;34m(\u001b[0m\u001b[0;34m)\u001b[0m\u001b[0;34m\u001b[0m\u001b[0;34m\u001b[0m\u001b[0m\n\u001b[1;32m    339\u001b[0m         \u001b[0;32mif\u001b[0m \u001b[0mend\u001b[0m \u001b[0;34m!=\u001b[0m \u001b[0mlen\u001b[0m\u001b[0;34m(\u001b[0m\u001b[0ms\u001b[0m\u001b[0;34m)\u001b[0m\u001b[0;34m:\u001b[0m\u001b[0;34m\u001b[0m\u001b[0;34m\u001b[0m\u001b[0m\n",
      "\u001b[0;32m~/.pyenv/versions/3.8.12/lib/python3.8/json/decoder.py\u001b[0m in \u001b[0;36mraw_decode\u001b[0;34m(self, s, idx)\u001b[0m\n\u001b[1;32m    353\u001b[0m             \u001b[0mobj\u001b[0m\u001b[0;34m,\u001b[0m \u001b[0mend\u001b[0m \u001b[0;34m=\u001b[0m \u001b[0mself\u001b[0m\u001b[0;34m.\u001b[0m\u001b[0mscan_once\u001b[0m\u001b[0;34m(\u001b[0m\u001b[0ms\u001b[0m\u001b[0;34m,\u001b[0m \u001b[0midx\u001b[0m\u001b[0;34m)\u001b[0m\u001b[0;34m\u001b[0m\u001b[0;34m\u001b[0m\u001b[0m\n\u001b[1;32m    354\u001b[0m         \u001b[0;32mexcept\u001b[0m \u001b[0mStopIteration\u001b[0m \u001b[0;32mas\u001b[0m \u001b[0merr\u001b[0m\u001b[0;34m:\u001b[0m\u001b[0;34m\u001b[0m\u001b[0;34m\u001b[0m\u001b[0m\n\u001b[0;32m--> 355\u001b[0;31m             \u001b[0;32mraise\u001b[0m \u001b[0mJSONDecodeError\u001b[0m\u001b[0;34m(\u001b[0m\u001b[0;34m\"Expecting value\"\u001b[0m\u001b[0;34m,\u001b[0m \u001b[0ms\u001b[0m\u001b[0;34m,\u001b[0m \u001b[0merr\u001b[0m\u001b[0;34m.\u001b[0m\u001b[0mvalue\u001b[0m\u001b[0;34m)\u001b[0m \u001b[0;32mfrom\u001b[0m \u001b[0;32mNone\u001b[0m\u001b[0;34m\u001b[0m\u001b[0;34m\u001b[0m\u001b[0m\n\u001b[0m\u001b[1;32m    356\u001b[0m         \u001b[0;32mreturn\u001b[0m \u001b[0mobj\u001b[0m\u001b[0;34m,\u001b[0m \u001b[0mend\u001b[0m\u001b[0;34m\u001b[0m\u001b[0;34m\u001b[0m\u001b[0m\n",
      "\u001b[0;31mJSONDecodeError\u001b[0m: Expecting value: line 1 column 1 (char 0)"
     ]
    }
   ],
   "source": [
    "requests.post(url,data,headers=headers).json()"
   ]
  },
  {
   "cell_type": "code",
   "execution_count": 90,
   "id": "d5a21718",
   "metadata": {},
   "outputs": [],
   "source": [
    "model_path= os.path.join('..','models/10_VGG16.h5')"
   ]
  },
  {
   "cell_type": "code",
   "execution_count": 91,
   "id": "cde9738e",
   "metadata": {},
   "outputs": [],
   "source": [
    "def load_model(model_path):\n",
    "    model = keras.models.load_model(model_path)\n",
    "    return model"
   ]
  },
  {
   "cell_type": "code",
   "execution_count": 92,
   "id": "db9e46b5",
   "metadata": {},
   "outputs": [
    {
     "data": {
      "text/plain": [
       "<tensorflow.python.keras.engine.sequential.Sequential at 0x7f4f45eee670>"
      ]
     },
     "execution_count": 92,
     "metadata": {},
     "output_type": "execute_result"
    }
   ],
   "source": [
    "load_model(model_path)"
   ]
  },
  {
   "cell_type": "markdown",
   "id": "558fa339",
   "metadata": {},
   "source": [
    "# Working on emissions"
   ]
  },
  {
   "cell_type": "code",
   "execution_count": 92,
   "id": "b6aa6278",
   "metadata": {},
   "outputs": [],
   "source": [
    "import pandas as pd\n",
    "file_path='../footprint_data/ingredients_weights_emissions.csv'"
   ]
  },
  {
   "cell_type": "code",
   "execution_count": 93,
   "id": "9dfb8661",
   "metadata": {},
   "outputs": [
    {
     "data": {
      "text/html": [
       "<div>\n",
       "<style scoped>\n",
       "    .dataframe tbody tr th:only-of-type {\n",
       "        vertical-align: middle;\n",
       "    }\n",
       "\n",
       "    .dataframe tbody tr th {\n",
       "        vertical-align: top;\n",
       "    }\n",
       "\n",
       "    .dataframe thead th {\n",
       "        text-align: right;\n",
       "    }\n",
       "</style>\n",
       "<table border=\"1\" class=\"dataframe\">\n",
       "  <thead>\n",
       "    <tr style=\"text-align: right;\">\n",
       "      <th></th>\n",
       "      <th>Ingedient</th>\n",
       "      <th>Weight(g)</th>\n",
       "      <th>Emissions(gCO2)</th>\n",
       "    </tr>\n",
       "  </thead>\n",
       "  <tbody>\n",
       "    <tr>\n",
       "      <th>0</th>\n",
       "      <td>Allspice</td>\n",
       "      <td>1000</td>\n",
       "      <td>1133</td>\n",
       "    </tr>\n",
       "    <tr>\n",
       "      <th>1</th>\n",
       "      <td>Almond extract</td>\n",
       "      <td>1000</td>\n",
       "      <td>656</td>\n",
       "    </tr>\n",
       "    <tr>\n",
       "      <th>2</th>\n",
       "      <td>Almonds</td>\n",
       "      <td>1000</td>\n",
       "      <td>2856</td>\n",
       "    </tr>\n",
       "    <tr>\n",
       "      <th>3</th>\n",
       "      <td>Anchovies</td>\n",
       "      <td>1000</td>\n",
       "      <td>4220</td>\n",
       "    </tr>\n",
       "    <tr>\n",
       "      <th>4</th>\n",
       "      <td>Apple juice</td>\n",
       "      <td>1000</td>\n",
       "      <td>2440</td>\n",
       "    </tr>\n",
       "    <tr>\n",
       "      <th>...</th>\n",
       "      <td>...</td>\n",
       "      <td>...</td>\n",
       "      <td>...</td>\n",
       "    </tr>\n",
       "    <tr>\n",
       "      <th>405</th>\n",
       "      <td>Whiskey</td>\n",
       "      <td>1000</td>\n",
       "      <td>2320</td>\n",
       "    </tr>\n",
       "    <tr>\n",
       "      <th>406</th>\n",
       "      <td>Whiting</td>\n",
       "      <td>1000</td>\n",
       "      <td>4362</td>\n",
       "    </tr>\n",
       "    <tr>\n",
       "      <th>407</th>\n",
       "      <td>Wine</td>\n",
       "      <td>1000</td>\n",
       "      <td>1369</td>\n",
       "    </tr>\n",
       "    <tr>\n",
       "      <th>408</th>\n",
       "      <td>Worcestershire sauce</td>\n",
       "      <td>1000</td>\n",
       "      <td>222</td>\n",
       "    </tr>\n",
       "    <tr>\n",
       "      <th>409</th>\n",
       "      <td>Yogurt</td>\n",
       "      <td>1000</td>\n",
       "      <td>2200</td>\n",
       "    </tr>\n",
       "  </tbody>\n",
       "</table>\n",
       "<p>410 rows × 3 columns</p>\n",
       "</div>"
      ],
      "text/plain": [
       "                Ingedient  Weight(g)  Emissions(gCO2)\n",
       "0                Allspice       1000             1133\n",
       "1          Almond extract       1000              656\n",
       "2                 Almonds       1000             2856\n",
       "3               Anchovies       1000             4220\n",
       "4             Apple juice       1000             2440\n",
       "..                    ...        ...              ...\n",
       "405               Whiskey       1000             2320\n",
       "406               Whiting       1000             4362\n",
       "407                  Wine       1000             1369\n",
       "408  Worcestershire sauce       1000              222\n",
       "409                Yogurt       1000             2200\n",
       "\n",
       "[410 rows x 3 columns]"
      ]
     },
     "execution_count": 93,
     "metadata": {},
     "output_type": "execute_result"
    }
   ],
   "source": [
    "df=pd.read_csv(file_path)\n",
    "df"
   ]
  },
  {
   "cell_type": "code",
   "execution_count": 23,
   "id": "aaa506ce",
   "metadata": {},
   "outputs": [],
   "source": [
    "output_dict= {'ingredient':['beef','shrimp'],'value':['300','200'],'metric':'g'}"
   ]
  },
  {
   "cell_type": "markdown",
   "id": "84be98d1",
   "metadata": {},
   "source": [
    "# Pseudo code for preprocessing"
   ]
  },
  {
   "cell_type": "markdown",
   "id": "764a923e",
   "metadata": {},
   "source": [
    "1. Fill the empty strings (metrics)\n",
    "2. Create a name matching"
   ]
  },
  {
   "cell_type": "markdown",
   "id": "b5a9c261",
   "metadata": {},
   "source": [
    "## Filling the empty strings"
   ]
  },
  {
   "cell_type": "code",
   "execution_count": null,
   "id": "02a76d05",
   "metadata": {},
   "outputs": [],
   "source": [
    "output_dict= {'ingredient':['beef','shrimp'],'value':['300','200'],'metric':'g'}"
   ]
  },
  {
   "cell_type": "code",
   "execution_count": 37,
   "id": "8d924251",
   "metadata": {},
   "outputs": [],
   "source": [
    "output=pd.DataFrame(output)"
   ]
  },
  {
   "cell_type": "code",
   "execution_count": 38,
   "id": "7cd4c2f1",
   "metadata": {},
   "outputs": [
    {
     "data": {
      "text/html": [
       "<div>\n",
       "<style scoped>\n",
       "    .dataframe tbody tr th:only-of-type {\n",
       "        vertical-align: middle;\n",
       "    }\n",
       "\n",
       "    .dataframe tbody tr th {\n",
       "        vertical-align: top;\n",
       "    }\n",
       "\n",
       "    .dataframe thead th {\n",
       "        text-align: right;\n",
       "    }\n",
       "</style>\n",
       "<table border=\"1\" class=\"dataframe\">\n",
       "  <thead>\n",
       "    <tr style=\"text-align: right;\">\n",
       "      <th></th>\n",
       "      <th>ingredient</th>\n",
       "      <th>value</th>\n",
       "      <th>metric</th>\n",
       "    </tr>\n",
       "  </thead>\n",
       "  <tbody>\n",
       "    <tr>\n",
       "      <th>0</th>\n",
       "      <td>Beef</td>\n",
       "      <td>300</td>\n",
       "      <td>g</td>\n",
       "    </tr>\n",
       "    <tr>\n",
       "      <th>1</th>\n",
       "      <td>Shrimp</td>\n",
       "      <td>200</td>\n",
       "      <td>g</td>\n",
       "    </tr>\n",
       "  </tbody>\n",
       "</table>\n",
       "</div>"
      ],
      "text/plain": [
       "  ingredient value metric\n",
       "0       Beef   300      g\n",
       "1     Shrimp   200      g"
      ]
     },
     "execution_count": 38,
     "metadata": {},
     "output_type": "execute_result"
    }
   ],
   "source": [
    "output"
   ]
  },
  {
   "cell_type": "code",
   "execution_count": 42,
   "id": "4c6dac8d",
   "metadata": {},
   "outputs": [],
   "source": [
    "output.metric.replace(np.nan, \"g\", inplace=True) #Replace NaN by \"g\""
   ]
  },
  {
   "cell_type": "markdown",
   "id": "7f7f977e",
   "metadata": {},
   "source": [
    "## Name matching using regex"
   ]
  },
  {
   "cell_type": "code",
   "execution_count": 116,
   "id": "b5df3f18",
   "metadata": {},
   "outputs": [],
   "source": [
    "key1=\"Beef\""
   ]
  },
  {
   "cell_type": "code",
   "execution_count": 44,
   "id": "590aafb6",
   "metadata": {},
   "outputs": [],
   "source": [
    "import regex"
   ]
  },
  {
   "cell_type": "code",
   "execution_count": 117,
   "id": "bf13ee62",
   "metadata": {},
   "outputs": [
    {
     "data": {
      "text/html": [
       "<div>\n",
       "<style scoped>\n",
       "    .dataframe tbody tr th:only-of-type {\n",
       "        vertical-align: middle;\n",
       "    }\n",
       "\n",
       "    .dataframe tbody tr th {\n",
       "        vertical-align: top;\n",
       "    }\n",
       "\n",
       "    .dataframe thead th {\n",
       "        text-align: right;\n",
       "    }\n",
       "</style>\n",
       "<table border=\"1\" class=\"dataframe\">\n",
       "  <thead>\n",
       "    <tr style=\"text-align: right;\">\n",
       "      <th></th>\n",
       "      <th>Ingedient</th>\n",
       "      <th>Weight(g)</th>\n",
       "      <th>Emissions(gCO2)</th>\n",
       "    </tr>\n",
       "  </thead>\n",
       "  <tbody>\n",
       "    <tr>\n",
       "      <th>21</th>\n",
       "      <td>Beef</td>\n",
       "      <td>1000</td>\n",
       "      <td>43330</td>\n",
       "    </tr>\n",
       "  </tbody>\n",
       "</table>\n",
       "</div>"
      ],
      "text/plain": [
       "   Ingedient  Weight(g)  Emissions(gCO2)\n",
       "21      Beef       1000            43330"
      ]
     },
     "execution_count": 117,
     "metadata": {},
     "output_type": "execute_result"
    }
   ],
   "source": [
    "df[df['Ingedient'].str.match(r'.*'+str(key1)+'.*')== True]"
   ]
  },
  {
   "cell_type": "code",
   "execution_count": 93,
   "id": "ec06ef99",
   "metadata": {},
   "outputs": [
    {
     "data": {
      "text/html": [
       "<div>\n",
       "<style scoped>\n",
       "    .dataframe tbody tr th:only-of-type {\n",
       "        vertical-align: middle;\n",
       "    }\n",
       "\n",
       "    .dataframe tbody tr th {\n",
       "        vertical-align: top;\n",
       "    }\n",
       "\n",
       "    .dataframe thead th {\n",
       "        text-align: right;\n",
       "    }\n",
       "</style>\n",
       "<table border=\"1\" class=\"dataframe\">\n",
       "  <thead>\n",
       "    <tr style=\"text-align: right;\">\n",
       "      <th></th>\n",
       "      <th>Ingedient</th>\n",
       "      <th>Weight(g)</th>\n",
       "      <th>Emissions(gCO2)</th>\n",
       "    </tr>\n",
       "  </thead>\n",
       "  <tbody>\n",
       "    <tr>\n",
       "      <th>21</th>\n",
       "      <td>Beef</td>\n",
       "      <td>1000</td>\n",
       "      <td>43330</td>\n",
       "    </tr>\n",
       "  </tbody>\n",
       "</table>\n",
       "</div>"
      ],
      "text/plain": [
       "   Ingedient  Weight(g)  Emissions(gCO2)\n",
       "21      Beef       1000            43330"
      ]
     },
     "execution_count": 93,
     "metadata": {},
     "output_type": "execute_result"
    }
   ],
   "source": [
    "df[df['Ingedient']==\"Beef\"]"
   ]
  },
  {
   "cell_type": "markdown",
   "id": "e2993879",
   "metadata": {},
   "source": [
    "## Building the for loop "
   ]
  },
  {
   "cell_type": "code",
   "execution_count": 171,
   "id": "a9ffd562",
   "metadata": {},
   "outputs": [],
   "source": [
    "file_path='../footprint_data/ingredients_emissions.csv'"
   ]
  },
  {
   "cell_type": "code",
   "execution_count": 172,
   "id": "fe14e230",
   "metadata": {},
   "outputs": [],
   "source": [
    "df=pd.read_csv(file_path)\n",
    "df.drop(columns='Unnamed: 0', inplace=True)"
   ]
  },
  {
   "cell_type": "code",
   "execution_count": 254,
   "id": "02961abf",
   "metadata": {
    "scrolled": true
   },
   "outputs": [],
   "source": [
    "df.drop(columns='value', inplace=True)"
   ]
  },
  {
   "cell_type": "code",
   "execution_count": 257,
   "id": "ac375821",
   "metadata": {},
   "outputs": [],
   "source": [
    "df.to_csv('../footprint_data/final_ingredients_emissions.csv',index=False)"
   ]
  },
  {
   "cell_type": "code",
   "execution_count": 263,
   "id": "03211efc",
   "metadata": {},
   "outputs": [],
   "source": [
    "output_dict= {'ingredient':['beef','shrimp','rer'],'value':['300','200'],'metric':'g'}"
   ]
  },
  {
   "cell_type": "markdown",
   "id": "8c97c9a9",
   "metadata": {},
   "source": [
    "### Extracting the emissions"
   ]
  },
  {
   "cell_type": "code",
   "execution_count": 251,
   "id": "0b6bc716",
   "metadata": {},
   "outputs": [
    {
     "name": "stdout",
     "output_type": "stream",
     "text": [
      "rer is missing\n"
     ]
    }
   ],
   "source": [
    "final_dict={'ingredient':[], 'emission':[]}\n",
    "for ingredient in output_dict['ingredient']:\n",
    "    try:\n",
    "        final_dict['ingredient'].append(df[df['ingredient'].str.match(r'.*'+str(ingredient)+'.*')== True].ingredient.values[0])\n",
    "        final_dict['emission'].append(df[df['ingredient'].str.match(r'.*'+str(ingredient)+'.*')== True].emissions.values[0])\n",
    "    except IndexError:\n",
    "        print(f'{ingredient} is missing')"
   ]
  },
  {
   "cell_type": "code",
   "execution_count": 252,
   "id": "87d7d83a",
   "metadata": {},
   "outputs": [
    {
     "data": {
      "text/plain": [
       "{'ingredient': ['beef', 'shrimp'], 'emission': [43330, 17746]}"
      ]
     },
     "execution_count": 252,
     "metadata": {},
     "output_type": "execute_result"
    }
   ],
   "source": [
    "final_dict"
   ]
  },
  {
   "cell_type": "code",
   "execution_count": 204,
   "id": "41857947",
   "metadata": {},
   "outputs": [],
   "source": [
    "output_df=pd.DataFrame(final_dict)"
   ]
  },
  {
   "cell_type": "code",
   "execution_count": 264,
   "id": "bf6146ff",
   "metadata": {},
   "outputs": [],
   "source": [
    "output_df['value']=output_dict['value']"
   ]
  },
  {
   "cell_type": "code",
   "execution_count": 265,
   "id": "18964c1e",
   "metadata": {},
   "outputs": [],
   "source": [
    "output_df['metric']=output_dict['metric']"
   ]
  },
  {
   "cell_type": "code",
   "execution_count": 266,
   "id": "124cbf22",
   "metadata": {},
   "outputs": [
    {
     "data": {
      "text/html": [
       "<div>\n",
       "<style scoped>\n",
       "    .dataframe tbody tr th:only-of-type {\n",
       "        vertical-align: middle;\n",
       "    }\n",
       "\n",
       "    .dataframe tbody tr th {\n",
       "        vertical-align: top;\n",
       "    }\n",
       "\n",
       "    .dataframe thead th {\n",
       "        text-align: right;\n",
       "    }\n",
       "</style>\n",
       "<table border=\"1\" class=\"dataframe\">\n",
       "  <thead>\n",
       "    <tr style=\"text-align: right;\">\n",
       "      <th></th>\n",
       "      <th>ingredient</th>\n",
       "      <th>emission</th>\n",
       "      <th>value</th>\n",
       "      <th>metric</th>\n",
       "      <th>to_Kg_multiplier</th>\n",
       "      <th>calculated_emissions</th>\n",
       "      <th>calculated_emissions g</th>\n",
       "    </tr>\n",
       "  </thead>\n",
       "  <tbody>\n",
       "    <tr>\n",
       "      <th>0</th>\n",
       "      <td>beef</td>\n",
       "      <td>43330</td>\n",
       "      <td>300</td>\n",
       "      <td>g</td>\n",
       "      <td>0.001</td>\n",
       "      <td>43.330</td>\n",
       "      <td>12999.0</td>\n",
       "    </tr>\n",
       "    <tr>\n",
       "      <th>1</th>\n",
       "      <td>shrimp</td>\n",
       "      <td>17746</td>\n",
       "      <td>200</td>\n",
       "      <td>g</td>\n",
       "      <td>0.001</td>\n",
       "      <td>17.746</td>\n",
       "      <td>3549.2</td>\n",
       "    </tr>\n",
       "  </tbody>\n",
       "</table>\n",
       "</div>"
      ],
      "text/plain": [
       "  ingredient  emission value metric  to_Kg_multiplier  calculated_emissions  \\\n",
       "0       beef     43330   300      g             0.001                43.330   \n",
       "1     shrimp     17746   200      g             0.001                17.746   \n",
       "\n",
       "   calculated_emissions g  \n",
       "0                 12999.0  \n",
       "1                  3549.2  "
      ]
     },
     "execution_count": 266,
     "metadata": {},
     "output_type": "execute_result"
    }
   ],
   "source": [
    "output_df"
   ]
  },
  {
   "cell_type": "markdown",
   "id": "a1f5a750",
   "metadata": {},
   "source": [
    "### Convert the values"
   ]
  },
  {
   "cell_type": "code",
   "execution_count": 258,
   "id": "697b37a1",
   "metadata": {},
   "outputs": [
    {
     "data": {
      "text/html": [
       "<div>\n",
       "<style scoped>\n",
       "    .dataframe tbody tr th:only-of-type {\n",
       "        vertical-align: middle;\n",
       "    }\n",
       "\n",
       "    .dataframe tbody tr th {\n",
       "        vertical-align: top;\n",
       "    }\n",
       "\n",
       "    .dataframe thead th {\n",
       "        text-align: right;\n",
       "    }\n",
       "</style>\n",
       "<table border=\"1\" class=\"dataframe\">\n",
       "  <thead>\n",
       "    <tr style=\"text-align: right;\">\n",
       "      <th></th>\n",
       "      <th>metric</th>\n",
       "      <th>to_Kg_multiplier</th>\n",
       "    </tr>\n",
       "  </thead>\n",
       "  <tbody>\n",
       "    <tr>\n",
       "      <th>0</th>\n",
       "      <td>g</td>\n",
       "      <td>0.001000</td>\n",
       "    </tr>\n",
       "    <tr>\n",
       "      <th>1</th>\n",
       "      <td>ml</td>\n",
       "      <td>0.001000</td>\n",
       "    </tr>\n",
       "    <tr>\n",
       "      <th>2</th>\n",
       "      <td>tsps</td>\n",
       "      <td>0.005000</td>\n",
       "    </tr>\n",
       "    <tr>\n",
       "      <th>3</th>\n",
       "      <td>Tbsps</td>\n",
       "      <td>0.015000</td>\n",
       "    </tr>\n",
       "    <tr>\n",
       "      <th>4</th>\n",
       "      <td>lb</td>\n",
       "      <td>0.454545</td>\n",
       "    </tr>\n",
       "  </tbody>\n",
       "</table>\n",
       "</div>"
      ],
      "text/plain": [
       "  metric  to_Kg_multiplier\n",
       "0      g          0.001000\n",
       "1     ml          0.001000\n",
       "2   tsps          0.005000\n",
       "3  Tbsps          0.015000\n",
       "4     lb          0.454545"
      ]
     },
     "execution_count": 258,
     "metadata": {},
     "output_type": "execute_result"
    }
   ],
   "source": [
    "data = {'metric':['g', 'ml', 'tsps', 'Tbsps', 'lb'],'to_Kg_multiplier':[1/1000, 1/1000, 5/1000, 15/1000, 1/2.2]}\n",
    "\n",
    "conv_df = pd.DataFrame(data)\n",
    "conv_df"
   ]
  },
  {
   "cell_type": "code",
   "execution_count": 260,
   "id": "d0fdcc88",
   "metadata": {},
   "outputs": [],
   "source": [
    "conv_df.to_csv(\"conversion.csv\", index=False)"
   ]
  },
  {
   "cell_type": "code",
   "execution_count": 224,
   "id": "63294a87",
   "metadata": {},
   "outputs": [],
   "source": [
    "output_df=output_df.merge(conv_df, on='metric')"
   ]
  },
  {
   "cell_type": "code",
   "execution_count": 232,
   "id": "1c854f1a",
   "metadata": {},
   "outputs": [
    {
     "data": {
      "text/plain": [
       "ingredient                 object\n",
       "emission                    int64\n",
       "value                      object\n",
       "metric                     object\n",
       "to_Kg_multiplier          float64\n",
       "calculated_emissions      float64\n",
       "calculated_emissions g    float64\n",
       "dtype: object"
      ]
     },
     "execution_count": 232,
     "metadata": {},
     "output_type": "execute_result"
    }
   ],
   "source": [
    "output_df.dtypes"
   ]
  },
  {
   "cell_type": "code",
   "execution_count": 234,
   "id": "8413dc3b",
   "metadata": {},
   "outputs": [],
   "source": [
    "output_df[\"calculated gCO2e\"]=output_df[\"emission\"]*output_df[\"value\"].astype('int64')*output_df[\"to_Kg_multiplier\"]"
   ]
  },
  {
   "cell_type": "code",
   "execution_count": 235,
   "id": "70dc677c",
   "metadata": {},
   "outputs": [
    {
     "data": {
      "text/html": [
       "<div>\n",
       "<style scoped>\n",
       "    .dataframe tbody tr th:only-of-type {\n",
       "        vertical-align: middle;\n",
       "    }\n",
       "\n",
       "    .dataframe tbody tr th {\n",
       "        vertical-align: top;\n",
       "    }\n",
       "\n",
       "    .dataframe thead th {\n",
       "        text-align: right;\n",
       "    }\n",
       "</style>\n",
       "<table border=\"1\" class=\"dataframe\">\n",
       "  <thead>\n",
       "    <tr style=\"text-align: right;\">\n",
       "      <th></th>\n",
       "      <th>ingredient</th>\n",
       "      <th>emission</th>\n",
       "      <th>value</th>\n",
       "      <th>metric</th>\n",
       "      <th>to_Kg_multiplier</th>\n",
       "      <th>calculated_emissions</th>\n",
       "      <th>calculated_emissions g</th>\n",
       "    </tr>\n",
       "  </thead>\n",
       "  <tbody>\n",
       "    <tr>\n",
       "      <th>0</th>\n",
       "      <td>beef</td>\n",
       "      <td>43330</td>\n",
       "      <td>300</td>\n",
       "      <td>g</td>\n",
       "      <td>0.001</td>\n",
       "      <td>43.330</td>\n",
       "      <td>12999.0</td>\n",
       "    </tr>\n",
       "    <tr>\n",
       "      <th>1</th>\n",
       "      <td>shrimp</td>\n",
       "      <td>17746</td>\n",
       "      <td>200</td>\n",
       "      <td>g</td>\n",
       "      <td>0.001</td>\n",
       "      <td>17.746</td>\n",
       "      <td>3549.2</td>\n",
       "    </tr>\n",
       "  </tbody>\n",
       "</table>\n",
       "</div>"
      ],
      "text/plain": [
       "  ingredient  emission value metric  to_Kg_multiplier  calculated_emissions  \\\n",
       "0       beef     43330   300      g             0.001                43.330   \n",
       "1     shrimp     17746   200      g             0.001                17.746   \n",
       "\n",
       "   calculated_emissions g  \n",
       "0                 12999.0  \n",
       "1                  3549.2  "
      ]
     },
     "execution_count": 235,
     "metadata": {},
     "output_type": "execute_result"
    }
   ],
   "source": [
    "output_df.dr"
   ]
  },
  {
   "cell_type": "code",
   "execution_count": 261,
   "id": "ee170d31",
   "metadata": {},
   "outputs": [],
   "source": [
    "conversion_file_path='conversion.csv'\n",
    "\n",
    "df=pd.read_csv(conversion_file_path)"
   ]
  },
  {
   "cell_type": "code",
   "execution_count": 262,
   "id": "a8cfa5d2",
   "metadata": {},
   "outputs": [
    {
     "data": {
      "text/html": [
       "<div>\n",
       "<style scoped>\n",
       "    .dataframe tbody tr th:only-of-type {\n",
       "        vertical-align: middle;\n",
       "    }\n",
       "\n",
       "    .dataframe tbody tr th {\n",
       "        vertical-align: top;\n",
       "    }\n",
       "\n",
       "    .dataframe thead th {\n",
       "        text-align: right;\n",
       "    }\n",
       "</style>\n",
       "<table border=\"1\" class=\"dataframe\">\n",
       "  <thead>\n",
       "    <tr style=\"text-align: right;\">\n",
       "      <th></th>\n",
       "      <th>metric</th>\n",
       "      <th>to_Kg_multiplier</th>\n",
       "    </tr>\n",
       "  </thead>\n",
       "  <tbody>\n",
       "    <tr>\n",
       "      <th>0</th>\n",
       "      <td>g</td>\n",
       "      <td>0.001000</td>\n",
       "    </tr>\n",
       "    <tr>\n",
       "      <th>1</th>\n",
       "      <td>ml</td>\n",
       "      <td>0.001000</td>\n",
       "    </tr>\n",
       "    <tr>\n",
       "      <th>2</th>\n",
       "      <td>tsps</td>\n",
       "      <td>0.005000</td>\n",
       "    </tr>\n",
       "    <tr>\n",
       "      <th>3</th>\n",
       "      <td>Tbsps</td>\n",
       "      <td>0.015000</td>\n",
       "    </tr>\n",
       "    <tr>\n",
       "      <th>4</th>\n",
       "      <td>lb</td>\n",
       "      <td>0.454545</td>\n",
       "    </tr>\n",
       "  </tbody>\n",
       "</table>\n",
       "</div>"
      ],
      "text/plain": [
       "  metric  to_Kg_multiplier\n",
       "0      g          0.001000\n",
       "1     ml          0.001000\n",
       "2   tsps          0.005000\n",
       "3  Tbsps          0.015000\n",
       "4     lb          0.454545"
      ]
     },
     "execution_count": 262,
     "metadata": {},
     "output_type": "execute_result"
    }
   ],
   "source": [
    "df"
   ]
  },
  {
   "cell_type": "markdown",
   "id": "db9659f9",
   "metadata": {},
   "source": [
    "## Trying it all"
   ]
  },
  {
   "cell_type": "code",
   "execution_count": 63,
   "id": "088ed14e",
   "metadata": {},
   "outputs": [],
   "source": [
    "import pandas as pd\n",
    "import numpy as np\n",
    "missing_values = [\"<unit>\", 'None']"
   ]
  },
  {
   "cell_type": "code",
   "execution_count": 87,
   "id": "155cdd6b",
   "metadata": {},
   "outputs": [],
   "source": [
    "output_dict= {'ingredient':['beef','shrimp','rer'],'value':['300','200','20'], 'metric':[None,'piece','clove']}"
   ]
  },
  {
   "cell_type": "code",
   "execution_count": 78,
   "id": "b41bd94a",
   "metadata": {},
   "outputs": [
    {
     "data": {
      "text/html": [
       "<div>\n",
       "<style scoped>\n",
       "    .dataframe tbody tr th:only-of-type {\n",
       "        vertical-align: middle;\n",
       "    }\n",
       "\n",
       "    .dataframe tbody tr th {\n",
       "        vertical-align: top;\n",
       "    }\n",
       "\n",
       "    .dataframe thead th {\n",
       "        text-align: right;\n",
       "    }\n",
       "</style>\n",
       "<table border=\"1\" class=\"dataframe\">\n",
       "  <thead>\n",
       "    <tr style=\"text-align: right;\">\n",
       "      <th></th>\n",
       "      <th>ingredient</th>\n",
       "      <th>value</th>\n",
       "      <th>metric</th>\n",
       "    </tr>\n",
       "  </thead>\n",
       "  <tbody>\n",
       "    <tr>\n",
       "      <th>0</th>\n",
       "      <td>beef</td>\n",
       "      <td>300</td>\n",
       "      <td>None</td>\n",
       "    </tr>\n",
       "    <tr>\n",
       "      <th>1</th>\n",
       "      <td>shrimp</td>\n",
       "      <td>200</td>\n",
       "      <td>piece</td>\n",
       "    </tr>\n",
       "    <tr>\n",
       "      <th>2</th>\n",
       "      <td>rer</td>\n",
       "      <td>20</td>\n",
       "      <td>clove</td>\n",
       "    </tr>\n",
       "  </tbody>\n",
       "</table>\n",
       "</div>"
      ],
      "text/plain": [
       "  ingredient value metric\n",
       "0       beef   300   None\n",
       "1     shrimp   200  piece\n",
       "2        rer    20  clove"
      ]
     },
     "execution_count": 78,
     "metadata": {},
     "output_type": "execute_result"
    }
   ],
   "source": [
    "pd.DataFrame(output_dict)"
   ]
  },
  {
   "cell_type": "code",
   "execution_count": 85,
   "id": "650ccc59",
   "metadata": {},
   "outputs": [],
   "source": [
    "def fill_empties(output_dict):\n",
    "    output_df=pd.DataFrame(output_dict)\n",
    "    output_df.metric=output_df.metric.astype(str)\n",
    "    for item in missing_values:\n",
    "        output_df.metric.replace(item, \"g\", inplace=True)\n",
    "    return output_df"
   ]
  },
  {
   "cell_type": "code",
   "execution_count": 89,
   "id": "869efd3d",
   "metadata": {},
   "outputs": [],
   "source": [
    "output_df=fill_empties(output_dict)"
   ]
  },
  {
   "cell_type": "code",
   "execution_count": 96,
   "id": "971819a5",
   "metadata": {},
   "outputs": [],
   "source": [
    "df=pd.read_csv('/home/mateo/code/Matbeac/fritz/footprint_data/final_ingredients_emissions.csv')"
   ]
  },
  {
   "cell_type": "code",
   "execution_count": 104,
   "id": "099b9920",
   "metadata": {},
   "outputs": [],
   "source": [
    "def match_ingredients(output_df):\n",
    "    final_dict={'ingredient':[], 'emission':[]}\n",
    "    missing_ingredients={'missing_ingredients':[]}\n",
    "    for ingredient in output_dict['ingredient']:\n",
    "        try:\n",
    "            final_dict['ingredient'].append(df[df['ingredient'].str.match(r'.*'+str(ingredient)+'.*')== True].ingredient.values[0])\n",
    "            final_dict['emission'].append(df[df['ingredient'].str.match(r'.*'+str(ingredient)+'.*')== True].emissions.values[0])\n",
    "        except IndexError:\n",
    "            missing_ingredients['missing_ingredients'].append(ingredient)\n",
    "    final_df=pd.DataFrame(final_dict)\n",
    "    \n",
    "    # Adding the columns \"value\" and metric from output_dict\n",
    "    final_df['value']=output_df['value']\n",
    "    final_df['metric']=output_df['metric']\n",
    "    return final_df,missing_ingredients"
   ]
  },
  {
   "cell_type": "code",
   "execution_count": 108,
   "id": "1aed7346",
   "metadata": {},
   "outputs": [],
   "source": [
    "ingredients,missing_ingredients=match_ingredients(output_df)"
   ]
  },
  {
   "cell_type": "code",
   "execution_count": 111,
   "id": "bba4885b",
   "metadata": {},
   "outputs": [
    {
     "data": {
      "text/html": [
       "<div>\n",
       "<style scoped>\n",
       "    .dataframe tbody tr th:only-of-type {\n",
       "        vertical-align: middle;\n",
       "    }\n",
       "\n",
       "    .dataframe tbody tr th {\n",
       "        vertical-align: top;\n",
       "    }\n",
       "\n",
       "    .dataframe thead th {\n",
       "        text-align: right;\n",
       "    }\n",
       "</style>\n",
       "<table border=\"1\" class=\"dataframe\">\n",
       "  <thead>\n",
       "    <tr style=\"text-align: right;\">\n",
       "      <th></th>\n",
       "      <th>ingredient</th>\n",
       "      <th>emission</th>\n",
       "      <th>value</th>\n",
       "      <th>metric</th>\n",
       "    </tr>\n",
       "  </thead>\n",
       "  <tbody>\n",
       "    <tr>\n",
       "      <th>0</th>\n",
       "      <td>beef</td>\n",
       "      <td>43330</td>\n",
       "      <td>300</td>\n",
       "      <td>g</td>\n",
       "    </tr>\n",
       "    <tr>\n",
       "      <th>1</th>\n",
       "      <td>shrimp</td>\n",
       "      <td>17746</td>\n",
       "      <td>200</td>\n",
       "      <td>piece</td>\n",
       "    </tr>\n",
       "  </tbody>\n",
       "</table>\n",
       "</div>"
      ],
      "text/plain": [
       "  ingredient  emission value metric\n",
       "0       beef     43330   300      g\n",
       "1     shrimp     17746   200  piece"
      ]
     },
     "execution_count": 111,
     "metadata": {},
     "output_type": "execute_result"
    }
   ],
   "source": [
    "ingredients"
   ]
  },
  {
   "cell_type": "code",
   "execution_count": null,
   "id": "4d1afbdc",
   "metadata": {},
   "outputs": [],
   "source": []
  }
 ],
 "metadata": {
  "kernelspec": {
   "display_name": "Python 3 (ipykernel)",
   "language": "python",
   "name": "python3"
  },
  "language_info": {
   "codemirror_mode": {
    "name": "ipython",
    "version": 3
   },
   "file_extension": ".py",
   "mimetype": "text/x-python",
   "name": "python",
   "nbconvert_exporter": "python",
   "pygments_lexer": "ipython3",
   "version": "3.8.12"
  },
  "toc": {
   "base_numbering": 1,
   "nav_menu": {},
   "number_sections": true,
   "sideBar": true,
   "skip_h1_title": false,
   "title_cell": "Table of Contents",
   "title_sidebar": "Contents",
   "toc_cell": false,
   "toc_position": {},
   "toc_section_display": true,
   "toc_window_display": false
  }
 },
 "nbformat": 4,
 "nbformat_minor": 5
}
