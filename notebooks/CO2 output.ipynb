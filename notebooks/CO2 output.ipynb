{
 "cells": [
  {
   "cell_type": "code",
   "execution_count": null,
   "id": "173d6ec4",
   "metadata": {},
   "outputs": [],
   "source": [
    "import pandas as pd"
   ]
  },
  {
   "cell_type": "code",
   "execution_count": null,
   "id": "ffe0d2db",
   "metadata": {},
   "outputs": [],
   "source": [
    "PooreNemecek = pd.read_csv('/Users/jackjohson/Downloads/food-footprints (1).csv')"
   ]
  },
  {
   "cell_type": "code",
   "execution_count": null,
   "id": "d16e6fa2",
   "metadata": {},
   "outputs": [],
   "source": [
    "PooreNemecek.head()"
   ]
  },
  {
   "cell_type": "code",
   "execution_count": null,
   "id": "c55ebc0f",
   "metadata": {},
   "outputs": [],
   "source": [
    "PooreNemecek.info()"
   ]
  },
  {
   "cell_type": "code",
   "execution_count": null,
   "id": "2e8996e8",
   "metadata": {},
   "outputs": [],
   "source": [
    "ingredient_list= pd.read_json('/Users/jackjohson/Downloads/archive (1)/train.json')"
   ]
  },
  {
   "cell_type": "code",
   "execution_count": null,
   "id": "f5d51a4e",
   "metadata": {},
   "outputs": [],
   "source": [
    "uniques=[]\n",
    "count=0\n",
    "\n",
    "for lst in ingredient_list.ingredients:\n",
    "    for item in lst:\n",
    "        if item not in uniques:\n",
    "            uniques.append(item)\n",
    "            count += 1"
   ]
  },
  {
   "cell_type": "code",
   "execution_count": null,
   "id": "79be45ee",
   "metadata": {},
   "outputs": [],
   "source": []
  },
  {
   "cell_type": "code",
   "execution_count": null,
   "id": "d2bd31ab",
   "metadata": {},
   "outputs": [],
   "source": []
  },
  {
   "cell_type": "code",
   "execution_count": null,
   "id": "3fcdf606",
   "metadata": {},
   "outputs": [],
   "source": []
  },
  {
   "cell_type": "code",
   "execution_count": null,
   "id": "e607f9d2",
   "metadata": {},
   "outputs": [],
   "source": []
  },
  {
   "cell_type": "code",
   "execution_count": 2,
   "id": "a419254c",
   "metadata": {},
   "outputs": [
    {
     "name": "stderr",
     "output_type": "stream",
     "text": [
      "/var/folders/nq/2g7fpv4n3djf9gcdy8kpnnx40000gn/T/ipykernel_90668/1030974309.py:37: DeprecationWarning: find_element_by_* commands are deprecated. Please use find_element() instead\n",
      "  all_items = driver.find_element_by_id(\"food-select\")\n",
      "/Users/jackjohson/.pyenv/versions/3.8.12/envs/fritz/lib/python3.8/site-packages/selenium/webdriver/remote/webelement.py:359: UserWarning: find_elements_by_* commands are deprecated. Please use find_elements() instead\n",
      "  warnings.warn(\"find_elements_by_* commands are deprecated. Please use find_elements() instead\")\n",
      "/var/folders/nq/2g7fpv4n3djf9gcdy8kpnnx40000gn/T/ipykernel_90668/1030974309.py:46: DeprecationWarning: find_element_by_* commands are deprecated. Please use find_element() instead\n",
      "  all_items = driver.find_element_by_id(\"food-select\")\n"
     ]
    },
    {
     "name": "stdout",
     "output_type": "stream",
     "text": [
      "Allspice\n"
     ]
    },
    {
     "name": "stderr",
     "output_type": "stream",
     "text": [
      "/var/folders/nq/2g7fpv4n3djf9gcdy8kpnnx40000gn/T/ipykernel_90668/1030974309.py:55: DeprecationWarning: find_element_by_* commands are deprecated. Please use find_element() instead\n",
      "  driver.find_element_by_id(\"food_weight\").clear()\n",
      "/var/folders/nq/2g7fpv4n3djf9gcdy8kpnnx40000gn/T/ipykernel_90668/1030974309.py:56: DeprecationWarning: find_element_by_* commands are deprecated. Please use find_element() instead\n",
      "  driver.find_element_by_id(\"food_weight\").send_keys(\"1000\")\n",
      "/var/folders/nq/2g7fpv4n3djf9gcdy8kpnnx40000gn/T/ipykernel_90668/1030974309.py:59: DeprecationWarning: find_element_by_* commands are deprecated. Please use find_element() instead\n",
      "  driver.find_element_by_id(\"food_enter\").click()\n",
      "/var/folders/nq/2g7fpv4n3djf9gcdy8kpnnx40000gn/T/ipykernel_90668/1030974309.py:63: DeprecationWarning: find_element_by_* commands are deprecated. Please use find_element() instead\n",
      "  driver.find_element_by_id(\"show_emissions\").click()\n"
     ]
    },
    {
     "name": "stdout",
     "output_type": "stream",
     "text": [
      "enter food selection\n",
      "calculate daily food emissions button\n"
     ]
    },
    {
     "name": "stderr",
     "output_type": "stream",
     "text": [
      "/var/folders/nq/2g7fpv4n3djf9gcdy8kpnnx40000gn/T/ipykernel_90668/1030974309.py:68: DeprecationWarning: find_elements_by_* commands are deprecated. Please use find_elements() instead\n",
      "  table = driver.find_elements_by_id(\"resultsTable\")[0]\n",
      "/var/folders/nq/2g7fpv4n3djf9gcdy8kpnnx40000gn/T/ipykernel_90668/1030974309.py:79: DeprecationWarning: find_elements_by_* commands are deprecated. Please use find_elements() instead\n",
      "  element = driver.find_elements_by_id('removeRowButton')[-1]\n"
     ]
    },
    {
     "name": "stdout",
     "output_type": "stream",
     "text": [
      "<selenium.webdriver.remote.webelement.WebElement (session=\"006c865c7fd17c67e54d37f3413aa85e\", element=\"707bb7f0-a1c6-4f59-a953-30021bf5e52d\")>\n",
      "[<selenium.webdriver.remote.webelement.WebElement (session=\"006c865c7fd17c67e54d37f3413aa85e\", element=\"4761a2d8-408f-4a69-b78d-00319a9967f8\")>, <selenium.webdriver.remote.webelement.WebElement (session=\"006c865c7fd17c67e54d37f3413aa85e\", element=\"15acee90-7f80-4183-98a2-14f6760d2713\")>, <selenium.webdriver.remote.webelement.WebElement (session=\"006c865c7fd17c67e54d37f3413aa85e\", element=\"d3975543-358f-4a7d-83f2-752820d848bd\")>, <selenium.webdriver.remote.webelement.WebElement (session=\"006c865c7fd17c67e54d37f3413aa85e\", element=\"3e5aba5a-9002-4dfd-acc0-2a4bcf5f857f\")>]\n",
      "error locating\n"
     ]
    },
    {
     "ename": "ElementClickInterceptedException",
     "evalue": "Message: element click intercepted: Element <select class=\"calc-select\" name=\"Food\" id=\"food-select\" required=\"\" onchange=\"showServingInfo(foodJson)\">...</select> is not clickable at point (332, 58). Other element would receive the click: <div class=\"builder-item has-nav hfg-item-last col-10 desktop-right hfg-is-group\">...</div>\n  (Session info: chrome=96.0.4664.55)\nStacktrace:\n0   chromedriver                        0x0000000100726269 __gxx_personality_v0 + 582729\n1   chromedriver                        0x00000001006b1c33 __gxx_personality_v0 + 106003\n2   chromedriver                        0x000000010026ee28 chromedriver + 171560\n3   chromedriver                        0x00000001002ab681 chromedriver + 419457\n4   chromedriver                        0x00000001002a933e chromedriver + 410430\n5   chromedriver                        0x00000001002a6b5a chromedriver + 400218\n6   chromedriver                        0x00000001002a55f1 chromedriver + 394737\n7   chromedriver                        0x0000000100299659 chromedriver + 345689\n8   chromedriver                        0x00000001002c1962 chromedriver + 510306\n9   chromedriver                        0x0000000100298f45 chromedriver + 343877\n10  chromedriver                        0x00000001002c1c7e chromedriver + 511102\n11  chromedriver                        0x00000001002d4462 chromedriver + 586850\n12  chromedriver                        0x00000001002c1c23 chromedriver + 511011\n13  chromedriver                        0x000000010029775e chromedriver + 337758\n14  chromedriver                        0x0000000100298a95 chromedriver + 342677\n15  chromedriver                        0x00000001006e28ab __gxx_personality_v0 + 305803\n16  chromedriver                        0x00000001006f9863 __gxx_personality_v0 + 399939\n17  chromedriver                        0x00000001006fec7f __gxx_personality_v0 + 421471\n18  chromedriver                        0x00000001006fabba __gxx_personality_v0 + 404890\n19  chromedriver                        0x00000001006d6e51 __gxx_personality_v0 + 258097\n20  chromedriver                        0x0000000100716158 __gxx_personality_v0 + 516920\n21  chromedriver                        0x00000001007162e1 __gxx_personality_v0 + 517313\n22  chromedriver                        0x000000010072d6f8 __gxx_personality_v0 + 612568\n23  libsystem_pthread.dylib             0x00007fff2041f8fc _pthread_start + 224\n24  libsystem_pthread.dylib             0x00007fff2041b443 thread_start + 15\n",
     "output_type": "error",
     "traceback": [
      "\u001b[0;31m---------------------------------------------------------------------------\u001b[0m",
      "\u001b[0;31mElementClickInterceptedException\u001b[0m          Traceback (most recent call last)",
      "\u001b[0;32m/var/folders/nq/2g7fpv4n3djf9gcdy8kpnnx40000gn/T/ipykernel_90668/1030974309.py\u001b[0m in \u001b[0;36m<module>\u001b[0;34m\u001b[0m\n\u001b[1;32m     46\u001b[0m     \u001b[0mall_items\u001b[0m \u001b[0;34m=\u001b[0m \u001b[0mdriver\u001b[0m\u001b[0;34m.\u001b[0m\u001b[0mfind_element_by_id\u001b[0m\u001b[0;34m(\u001b[0m\u001b[0;34m\"food-select\"\u001b[0m\u001b[0;34m)\u001b[0m\u001b[0;34m\u001b[0m\u001b[0;34m\u001b[0m\u001b[0m\n\u001b[1;32m     47\u001b[0m     \u001b[0mactions\u001b[0m\u001b[0;34m.\u001b[0m\u001b[0mmove_to_element\u001b[0m\u001b[0;34m(\u001b[0m\u001b[0mall_items\u001b[0m\u001b[0;34m)\u001b[0m\u001b[0;34m.\u001b[0m\u001b[0mperform\u001b[0m\u001b[0;34m(\u001b[0m\u001b[0;34m)\u001b[0m\u001b[0;34m\u001b[0m\u001b[0;34m\u001b[0m\u001b[0m\n\u001b[0;32m---> 48\u001b[0;31m     \u001b[0mall_items\u001b[0m\u001b[0;34m.\u001b[0m\u001b[0mclick\u001b[0m\u001b[0;34m(\u001b[0m\u001b[0;34m)\u001b[0m\u001b[0;34m\u001b[0m\u001b[0;34m\u001b[0m\u001b[0m\n\u001b[0m\u001b[1;32m     49\u001b[0m     \u001b[0mtime\u001b[0m\u001b[0;34m.\u001b[0m\u001b[0msleep\u001b[0m\u001b[0;34m(\u001b[0m\u001b[0;36m0.5\u001b[0m\u001b[0;34m)\u001b[0m\u001b[0;34m\u001b[0m\u001b[0;34m\u001b[0m\u001b[0m\n\u001b[1;32m     50\u001b[0m     \u001b[0mall_items\u001b[0m\u001b[0;34m.\u001b[0m\u001b[0mclick\u001b[0m\u001b[0;34m(\u001b[0m\u001b[0;34m)\u001b[0m\u001b[0;34m\u001b[0m\u001b[0;34m\u001b[0m\u001b[0m\n",
      "\u001b[0;32m~/.pyenv/versions/3.8.12/envs/fritz/lib/python3.8/site-packages/selenium/webdriver/remote/webelement.py\u001b[0m in \u001b[0;36mclick\u001b[0;34m(self)\u001b[0m\n\u001b[1;32m     79\u001b[0m     \u001b[0;32mdef\u001b[0m \u001b[0mclick\u001b[0m\u001b[0;34m(\u001b[0m\u001b[0mself\u001b[0m\u001b[0;34m)\u001b[0m \u001b[0;34m->\u001b[0m \u001b[0;32mNone\u001b[0m\u001b[0;34m:\u001b[0m\u001b[0;34m\u001b[0m\u001b[0;34m\u001b[0m\u001b[0m\n\u001b[1;32m     80\u001b[0m         \u001b[0;34m\"\"\"Clicks the element.\"\"\"\u001b[0m\u001b[0;34m\u001b[0m\u001b[0;34m\u001b[0m\u001b[0m\n\u001b[0;32m---> 81\u001b[0;31m         \u001b[0mself\u001b[0m\u001b[0;34m.\u001b[0m\u001b[0m_execute\u001b[0m\u001b[0;34m(\u001b[0m\u001b[0mCommand\u001b[0m\u001b[0;34m.\u001b[0m\u001b[0mCLICK_ELEMENT\u001b[0m\u001b[0;34m)\u001b[0m\u001b[0;34m\u001b[0m\u001b[0;34m\u001b[0m\u001b[0m\n\u001b[0m\u001b[1;32m     82\u001b[0m \u001b[0;34m\u001b[0m\u001b[0m\n\u001b[1;32m     83\u001b[0m     \u001b[0;32mdef\u001b[0m \u001b[0msubmit\u001b[0m\u001b[0;34m(\u001b[0m\u001b[0mself\u001b[0m\u001b[0;34m)\u001b[0m\u001b[0;34m:\u001b[0m\u001b[0;34m\u001b[0m\u001b[0;34m\u001b[0m\u001b[0m\n",
      "\u001b[0;32m~/.pyenv/versions/3.8.12/envs/fritz/lib/python3.8/site-packages/selenium/webdriver/remote/webelement.py\u001b[0m in \u001b[0;36m_execute\u001b[0;34m(self, command, params)\u001b[0m\n\u001b[1;32m    708\u001b[0m             \u001b[0mparams\u001b[0m \u001b[0;34m=\u001b[0m \u001b[0;34m{\u001b[0m\u001b[0;34m}\u001b[0m\u001b[0;34m\u001b[0m\u001b[0;34m\u001b[0m\u001b[0m\n\u001b[1;32m    709\u001b[0m         \u001b[0mparams\u001b[0m\u001b[0;34m[\u001b[0m\u001b[0;34m'id'\u001b[0m\u001b[0;34m]\u001b[0m \u001b[0;34m=\u001b[0m \u001b[0mself\u001b[0m\u001b[0;34m.\u001b[0m\u001b[0m_id\u001b[0m\u001b[0;34m\u001b[0m\u001b[0;34m\u001b[0m\u001b[0m\n\u001b[0;32m--> 710\u001b[0;31m         \u001b[0;32mreturn\u001b[0m \u001b[0mself\u001b[0m\u001b[0;34m.\u001b[0m\u001b[0m_parent\u001b[0m\u001b[0;34m.\u001b[0m\u001b[0mexecute\u001b[0m\u001b[0;34m(\u001b[0m\u001b[0mcommand\u001b[0m\u001b[0;34m,\u001b[0m \u001b[0mparams\u001b[0m\u001b[0;34m)\u001b[0m\u001b[0;34m\u001b[0m\u001b[0;34m\u001b[0m\u001b[0m\n\u001b[0m\u001b[1;32m    711\u001b[0m \u001b[0;34m\u001b[0m\u001b[0m\n\u001b[1;32m    712\u001b[0m     \u001b[0;32mdef\u001b[0m \u001b[0mfind_element\u001b[0m\u001b[0;34m(\u001b[0m\u001b[0mself\u001b[0m\u001b[0;34m,\u001b[0m \u001b[0mby\u001b[0m\u001b[0;34m=\u001b[0m\u001b[0mBy\u001b[0m\u001b[0;34m.\u001b[0m\u001b[0mID\u001b[0m\u001b[0;34m,\u001b[0m \u001b[0mvalue\u001b[0m\u001b[0;34m=\u001b[0m\u001b[0;32mNone\u001b[0m\u001b[0;34m)\u001b[0m\u001b[0;34m:\u001b[0m\u001b[0;34m\u001b[0m\u001b[0;34m\u001b[0m\u001b[0m\n",
      "\u001b[0;32m~/.pyenv/versions/3.8.12/envs/fritz/lib/python3.8/site-packages/selenium/webdriver/remote/webdriver.py\u001b[0m in \u001b[0;36mexecute\u001b[0;34m(self, driver_command, params)\u001b[0m\n\u001b[1;32m    422\u001b[0m         \u001b[0mresponse\u001b[0m \u001b[0;34m=\u001b[0m \u001b[0mself\u001b[0m\u001b[0;34m.\u001b[0m\u001b[0mcommand_executor\u001b[0m\u001b[0;34m.\u001b[0m\u001b[0mexecute\u001b[0m\u001b[0;34m(\u001b[0m\u001b[0mdriver_command\u001b[0m\u001b[0;34m,\u001b[0m \u001b[0mparams\u001b[0m\u001b[0;34m)\u001b[0m\u001b[0;34m\u001b[0m\u001b[0;34m\u001b[0m\u001b[0m\n\u001b[1;32m    423\u001b[0m         \u001b[0;32mif\u001b[0m \u001b[0mresponse\u001b[0m\u001b[0;34m:\u001b[0m\u001b[0;34m\u001b[0m\u001b[0;34m\u001b[0m\u001b[0m\n\u001b[0;32m--> 424\u001b[0;31m             \u001b[0mself\u001b[0m\u001b[0;34m.\u001b[0m\u001b[0merror_handler\u001b[0m\u001b[0;34m.\u001b[0m\u001b[0mcheck_response\u001b[0m\u001b[0;34m(\u001b[0m\u001b[0mresponse\u001b[0m\u001b[0;34m)\u001b[0m\u001b[0;34m\u001b[0m\u001b[0;34m\u001b[0m\u001b[0m\n\u001b[0m\u001b[1;32m    425\u001b[0m             response['value'] = self._unwrap_value(\n\u001b[1;32m    426\u001b[0m                 response.get('value', None))\n",
      "\u001b[0;32m~/.pyenv/versions/3.8.12/envs/fritz/lib/python3.8/site-packages/selenium/webdriver/remote/errorhandler.py\u001b[0m in \u001b[0;36mcheck_response\u001b[0;34m(self, response)\u001b[0m\n\u001b[1;32m    245\u001b[0m                 \u001b[0malert_text\u001b[0m \u001b[0;34m=\u001b[0m \u001b[0mvalue\u001b[0m\u001b[0;34m[\u001b[0m\u001b[0;34m'alert'\u001b[0m\u001b[0;34m]\u001b[0m\u001b[0;34m.\u001b[0m\u001b[0mget\u001b[0m\u001b[0;34m(\u001b[0m\u001b[0;34m'text'\u001b[0m\u001b[0;34m)\u001b[0m\u001b[0;34m\u001b[0m\u001b[0;34m\u001b[0m\u001b[0m\n\u001b[1;32m    246\u001b[0m             \u001b[0;32mraise\u001b[0m \u001b[0mexception_class\u001b[0m\u001b[0;34m(\u001b[0m\u001b[0mmessage\u001b[0m\u001b[0;34m,\u001b[0m \u001b[0mscreen\u001b[0m\u001b[0;34m,\u001b[0m \u001b[0mstacktrace\u001b[0m\u001b[0;34m,\u001b[0m \u001b[0malert_text\u001b[0m\u001b[0;34m)\u001b[0m  \u001b[0;31m# type: ignore[call-arg]  # mypy is not smart enough here\u001b[0m\u001b[0;34m\u001b[0m\u001b[0;34m\u001b[0m\u001b[0m\n\u001b[0;32m--> 247\u001b[0;31m         \u001b[0;32mraise\u001b[0m \u001b[0mexception_class\u001b[0m\u001b[0;34m(\u001b[0m\u001b[0mmessage\u001b[0m\u001b[0;34m,\u001b[0m \u001b[0mscreen\u001b[0m\u001b[0;34m,\u001b[0m \u001b[0mstacktrace\u001b[0m\u001b[0;34m)\u001b[0m\u001b[0;34m\u001b[0m\u001b[0;34m\u001b[0m\u001b[0m\n\u001b[0m\u001b[1;32m    248\u001b[0m \u001b[0;34m\u001b[0m\u001b[0m\n\u001b[1;32m    249\u001b[0m     \u001b[0;32mdef\u001b[0m \u001b[0m_value_or_default\u001b[0m\u001b[0;34m(\u001b[0m\u001b[0mself\u001b[0m\u001b[0;34m,\u001b[0m \u001b[0mobj\u001b[0m\u001b[0;34m:\u001b[0m \u001b[0mMapping\u001b[0m\u001b[0;34m[\u001b[0m\u001b[0m_KT\u001b[0m\u001b[0;34m,\u001b[0m \u001b[0m_VT\u001b[0m\u001b[0;34m]\u001b[0m\u001b[0;34m,\u001b[0m \u001b[0mkey\u001b[0m\u001b[0;34m:\u001b[0m \u001b[0m_KT\u001b[0m\u001b[0;34m,\u001b[0m \u001b[0mdefault\u001b[0m\u001b[0;34m:\u001b[0m \u001b[0m_VT\u001b[0m\u001b[0;34m)\u001b[0m \u001b[0;34m->\u001b[0m \u001b[0m_VT\u001b[0m\u001b[0;34m:\u001b[0m\u001b[0;34m\u001b[0m\u001b[0;34m\u001b[0m\u001b[0m\n",
      "\u001b[0;31mElementClickInterceptedException\u001b[0m: Message: element click intercepted: Element <select class=\"calc-select\" name=\"Food\" id=\"food-select\" required=\"\" onchange=\"showServingInfo(foodJson)\">...</select> is not clickable at point (332, 58). Other element would receive the click: <div class=\"builder-item has-nav hfg-item-last col-10 desktop-right hfg-is-group\">...</div>\n  (Session info: chrome=96.0.4664.55)\nStacktrace:\n0   chromedriver                        0x0000000100726269 __gxx_personality_v0 + 582729\n1   chromedriver                        0x00000001006b1c33 __gxx_personality_v0 + 106003\n2   chromedriver                        0x000000010026ee28 chromedriver + 171560\n3   chromedriver                        0x00000001002ab681 chromedriver + 419457\n4   chromedriver                        0x00000001002a933e chromedriver + 410430\n5   chromedriver                        0x00000001002a6b5a chromedriver + 400218\n6   chromedriver                        0x00000001002a55f1 chromedriver + 394737\n7   chromedriver                        0x0000000100299659 chromedriver + 345689\n8   chromedriver                        0x00000001002c1962 chromedriver + 510306\n9   chromedriver                        0x0000000100298f45 chromedriver + 343877\n10  chromedriver                        0x00000001002c1c7e chromedriver + 511102\n11  chromedriver                        0x00000001002d4462 chromedriver + 586850\n12  chromedriver                        0x00000001002c1c23 chromedriver + 511011\n13  chromedriver                        0x000000010029775e chromedriver + 337758\n14  chromedriver                        0x0000000100298a95 chromedriver + 342677\n15  chromedriver                        0x00000001006e28ab __gxx_personality_v0 + 305803\n16  chromedriver                        0x00000001006f9863 __gxx_personality_v0 + 399939\n17  chromedriver                        0x00000001006fec7f __gxx_personality_v0 + 421471\n18  chromedriver                        0x00000001006fabba __gxx_personality_v0 + 404890\n19  chromedriver                        0x00000001006d6e51 __gxx_personality_v0 + 258097\n20  chromedriver                        0x0000000100716158 __gxx_personality_v0 + 516920\n21  chromedriver                        0x00000001007162e1 __gxx_personality_v0 + 517313\n22  chromedriver                        0x000000010072d6f8 __gxx_personality_v0 + 612568\n23  libsystem_pthread.dylib             0x00007fff2041f8fc _pthread_start + 224\n24  libsystem_pthread.dylib             0x00007fff2041b443 thread_start + 15\n"
     ]
    }
   ],
   "source": [
    "import time\n",
    "from selenium import webdriver\n",
    "import chromedriver_binary\n",
    "from selenium.webdriver.chrome.options import Options\n",
    "from selenium.webdriver.common.action_chains import ActionChains\n",
    "\n",
    "\n",
    "options = Options()\n",
    "\n",
    "options = webdriver.ChromeOptions()\n",
    "options.add_argument(\"--start-maximized\")\n",
    "driver = webdriver.Chrome(options=options)\n",
    "driver.get(\"https://myemissions.green/food-carbon-footprint-calculator/\")\n",
    "actions = ActionChains(driver)\n",
    "# Initialise empty results list:\n",
    "result_list=[]\n",
    "\n",
    "# Select first dropdown menu, and click on it\n",
    "#categories = driver.find_element_by_id(\"category-select\")\n",
    "#categories.click()\n",
    "#time.sleep(0.5)\n",
    "#categories.click()\n",
    "\n",
    "# Selects an element in the first dropdown\n",
    "#options = categories.find_elements_by_tag_name(\"option\")\n",
    "#for i in range(1, len(options)+1):\n",
    "#    categories = driver.find_element_by_id(\"category-select\")\n",
    "#    actions.move_to_element(categories).perform()\n",
    "#    categories.click()\n",
    "#    time.sleep(0.5)\n",
    "#    categories.click()\n",
    "#    categories.find_elements_by_tag_name(\"option\")[i].click()\n",
    "#    print(categories.find_elements_by_tag_name(\"option\")[i].text)\n",
    "\n",
    "\n",
    "# Select all food items dropdown menu\n",
    "food_item_list = driver.find_element_by_id(\"food-select\")\n",
    "actions = ActionChains(driver)\n",
    "actions.move_to_element(food_item_list).perform()\n",
    "#         and click\n",
    "food_item_list.click()\n",
    "time.sleep(1)\n",
    "food_item_list.click()\n",
    "\n",
    "# Selects a food item from the second dropdown\n",
    "food = food_item_list.find_elements_by_tag_name(\"option\") # List of objects relating to every food item\n",
    "for i in range(1, len(food)+1):\n",
    "    food_item_list = driver.find_element_by_id(\"food-select\")\n",
    "    actions.move_to_element(food_item_list).perform()\n",
    "#     food_item_list.click()\n",
    "    time.sleep(1)\n",
    "    food_item_list.click()\n",
    "    food_item_list.find_elements_by_tag_name(\"option\")[i].click()\n",
    "    print(food_item_list.find_elements_by_tag_name(\"option\")[i].text)\n",
    "\n",
    "    # fill in 1000 g for the weight:\n",
    "    driver.find_element_by_id(\"food_weight\").clear()\n",
    "    driver.find_element_by_id(\"food_weight\").send_keys(\"1000\")\n",
    "\n",
    "    # click 'enter food selection' button:\n",
    "    driver.find_element_by_id(\"food_enter\").click()\n",
    "    print('enter food selection')\n",
    "\n",
    "    # click 'calculate daily food emissions button'\n",
    "    driver.find_element_by_id(\"show_emissions\").click()\n",
    "    print('calculate daily food emissions button')\n",
    "    time.sleep(1)\n",
    "\n",
    "    # collect the data and store it somewhere\n",
    "    table = driver.find_elements_by_id(\"resultsTable\")[0]\n",
    "    print(table)\n",
    "\n",
    "    td = table.find_elements_by_tag_name('td')\n",
    "    print(td)\n",
    "\n",
    "    result_list.append({\"Ingedient\": td[0].text,\n",
    "        \"Weight(g)\": td[1].text,\n",
    "        \"Emissions(KgCO2)\": td[2].text})\n",
    "\n",
    "\n",
    "    element = driver.find_elements_by_id('removeRowButton')[-1] \n",
    "\n",
    "    try: \n",
    "        actions = ActionChains(driver)\n",
    "        actions.move_to_element(element).perform()\n",
    "        time.sleep(1)\n",
    "        element.click()\n",
    "    except:\n",
    "        print(\"error locating\")\n",
    "        continue\n",
    "\n",
    "\n",
    "# Convert result list to a DataFrame:\n",
    "results = pd.DatFframe(result_list)\n",
    "\n",
    "results.head()"
   ]
  },
  {
   "cell_type": "code",
   "execution_count": null,
   "id": "397cb69b",
   "metadata": {},
   "outputs": [],
   "source": [
    "\n",
    "element = driver.find_element_by_id('removeRowButton')  \n",
    "\n",
    "actions = ActionChains(driver)\n",
    "actions.move_to_element(element).perform()\n",
    "time.sleep(0.2)\n",
    "element.click()\n",
    "  \n",
    "#         # refresh and reset\n",
    "#         driver.refresh()\n",
    "        \n"
   ]
  }
 ],
 "metadata": {
  "kernelspec": {
   "display_name": "Python 3 (ipykernel)",
   "language": "python",
   "name": "python3"
  },
  "language_info": {
   "codemirror_mode": {
    "name": "ipython",
    "version": 3
   },
   "file_extension": ".py",
   "mimetype": "text/x-python",
   "name": "python",
   "nbconvert_exporter": "python",
   "pygments_lexer": "ipython3",
   "version": "3.8.12"
  },
  "toc": {
   "base_numbering": 1,
   "nav_menu": {},
   "number_sections": true,
   "sideBar": true,
   "skip_h1_title": false,
   "title_cell": "Table of Contents",
   "title_sidebar": "Contents",
   "toc_cell": false,
   "toc_position": {},
   "toc_section_display": true,
   "toc_window_display": false
  }
 },
 "nbformat": 4,
 "nbformat_minor": 5
}
